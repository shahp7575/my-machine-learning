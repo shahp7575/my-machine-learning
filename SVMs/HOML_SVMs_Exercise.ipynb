{
 "cells": [
  {
   "cell_type": "markdown",
   "metadata": {},
   "source": [
    "## Exercise Solutions for Support Vector Machines"
   ]
  },
  {
   "cell_type": "markdown",
   "metadata": {},
   "source": [
    "#### Q1. What is the fundamental idea behind Support Vector Machines?\n",
    "\n",
    "- The fundamental idea behind Support Vector Machines is to fit the widest possible street between two classes for classification and conversely, fit as many training instances on the street for regression. Since usually datasets are non-linear, hyper-parameters can be set to allow margin violations."
   ]
  },
  {
   "cell_type": "markdown",
   "metadata": {},
   "source": [
    "#### Q2. What is a suport vector?\n",
    "\n",
    "- Support vectors are basically any instances that are located on the street. The decision boundary (widest possible street separating the two classes) is entirely dependent on these support vectors. "
   ]
  },
  {
   "cell_type": "markdown",
   "metadata": {},
   "source": [
    "#### Q3. Why is it important to scale the inputs when using SVMs?\n",
    "\n",
    "- SVMs are sensitive to feature scales. If one feature has a wider range of values than other feature then the decision boundary separating them would be narrow. Once both the features are scaled, a wider decision boundary can be fitted."
   ]
  },
  {
   "cell_type": "markdown",
   "metadata": {},
   "source": [
    "#### Q4. Can a SVM classifier output a confidence score when it classifies an instance? What about a probability?\n",
    "\n",
    "- The distance between the predicted instance and decision boundary can be used as confidence score.\n",
    "- `sklearn` SVM class can give the output probability by setting `probability=True`."
   ]
  },
  {
   "cell_type": "markdown",
   "metadata": {},
   "source": [
    "#### Q5. Should you use the primal or the dual form of the SVM problem to train a model on a training set with millions of instances and hundreds of features?\n",
    "\n",
    "- All kernel form SVMs can only use dual form, so this only applies to linear SVM.\n",
    "- For primal form the computational complexity is proportional to number of training instances $m$, while for dual form it is between $m^2$ and $m^3$.\n",
    "- Hence primal form should be used."
   ]
  },
  {
   "cell_type": "markdown",
   "metadata": {},
   "source": [
    "#### Q6. Say you trained an SVM classifier with an RBF kernel. It seems to underfit the training set: should you increase or decrease $\\gamma$(gamma)? What about C?\n",
    "\n",
    "- As gamma is increased the rbf bell shape curve gets narrower. So instances have smaller range of influence.\n",
    "- If gamma is decreased the rbf bell shape curve gets wider. So instances have larger range of influence, hence the decision boundary ends up smoother.\n",
    "- Therefore if the model is underfitting $\\gamma$ should be increased.\n",
    "\n",
    "\n",
    "- $C$ controls the marginal violations. \n",
    "- Smaller value of $C$ means wider the street and hence more margin violations, and vice-versa.\n",
    "- Therefore, if the model is underfitting increase $C$."
   ]
  },
  {
   "cell_type": "markdown",
   "metadata": {},
   "source": [
    "#### Q7. How should you set the QP parameters (**H, f, A** and **b**) to solve the soft margin linear SVM classifier problem using an off-the-shelf QP solver?\n",
    "\n",
    "- "
   ]
  },
  {
   "cell_type": "markdown",
   "metadata": {},
   "source": [
    "#### Q8. Train a LinearSVC on a linearly separable dataset. Then train an SVC and a SGDClasifier on the same dataset. See if you can get them to produce roughly the same model."
   ]
  },
  {
   "cell_type": "code",
   "execution_count": 1,
   "metadata": {},
   "outputs": [],
   "source": [
    "import matplotlib.pyplot as plt\n",
    "%matplotlib inline\n",
    "\n",
    "# sklearn\n",
    "from sklearn import datasets\n",
    "from sklearn.preprocessing import StandardScaler\n",
    "from sklearn.svm import LinearSVC\n",
    "from sklearn.linear_model import SGDClassifier\n",
    "from sklearn.metrics import accuracy_score"
   ]
  },
  {
   "cell_type": "code",
   "execution_count": 2,
   "metadata": {},
   "outputs": [
    {
     "data": {
      "image/png": "[encoded data removed]",
      "text/plain": [
       "<Figure size 432x288 with 1 Axes>"
      ]
     },
     "metadata": {
      "needs_background": "light"
     },
     "output_type": "display_data"
    }
   ],
   "source": [
    "# linearly separable data\n",
    "\n",
    "X, y = datasets.make_blobs(n_samples=2000, centers=2, n_features=2, center_box=(0, 10))\n",
    "plt.plot(X[:, 0][y == 0], X[:, 1][y == 0], 'g^')\n",
    "plt.plot(X[:, 0][y == 1], X[:, 1][y == 1], 'bs')\n",
    "plt.show()"
   ]
  },
  {
   "cell_type": "code",
   "execution_count": 3,
   "metadata": {},
   "outputs": [],
   "source": [
    "# train and test\n",
    "X_train, X_test = X[:400], X[400:]\n",
    "y_train, y_test = y[:400], y[400:]"
   ]
  },
  {
   "cell_type": "code",
   "execution_count": 4,
   "metadata": {},
   "outputs": [],
   "source": [
    "# scale data\n",
    "scaler = StandardScaler()\n",
    "\n",
    "X_train_scaled = scaler.fit_transform(X_train)\n",
    "X_test_scaled = scaler.transform(X_test)"
   ]
  },
  {
   "cell_type": "code",
   "execution_count": 5,
   "metadata": {},
   "outputs": [
    {
     "data": {
      "text/plain": [
       "SGDClassifier(alpha=0.0001, average=False, class_weight=None,\n",
       "              early_stopping=False, epsilon=0.1, eta0=0.0, fit_intercept=True,\n",
       "              l1_ratio=0.15, learning_rate='optimal', loss='hinge',\n",
       "              max_iter=1000, n_iter_no_change=5, n_jobs=None, penalty='l2',\n",
       "              power_t=0.5, random_state=42, shuffle=True, tol=0.001,\n",
       "              validation_fraction=0.1, verbose=0, warm_start=False)"
      ]
     },
     "execution_count": 5,
     "metadata": {},
     "output_type": "execute_result"
    }
   ],
   "source": [
    "# define model\n",
    "svc = LinearSVC(random_state=42)\n",
    "sgd = SGDClassifier(random_state=42)\n",
    "\n",
    "# fit model\n",
    "svc.fit(X_train_scaled, y_train)\n",
    "sgd.fit(X_train_scaled, y_train)"
   ]
  },
  {
   "cell_type": "code",
   "execution_count": 6,
   "metadata": {},
   "outputs": [],
   "source": [
    "# evaluate\n",
    "svc_pred = svc.predict(X_test_scaled)\n",
    "sgd_pred = sgd.predict(X_test_scaled)"
   ]
  },
  {
   "cell_type": "code",
   "execution_count": 7,
   "metadata": {},
   "outputs": [
    {
     "name": "stdout",
     "output_type": "stream",
     "text": [
      "SVC intercept:  [0.0136197]\n",
      "SGD intercept:  [0.11132919]\n",
      "\n",
      "SVC coefficient:  [[-0.25596031  1.60834261]]\n",
      "SGD coefficient:  [[-4.06753499  9.58167883]]\n",
      "\n",
      "SVC Accuracy Score:  1.0\n",
      "SGD Accuracy Score:  0.999375\n"
     ]
    }
   ],
   "source": [
    "# compare\n",
    "print(\"SVC intercept: \", svc.intercept_)\n",
    "print(\"SGD intercept: \", sgd.intercept_)\n",
    "print()\n",
    "print(\"SVC coefficient: \", svc.coef_)\n",
    "print(\"SGD coefficient: \", sgd.coef_)\n",
    "print()\n",
    "print(\"SVC Accuracy Score: \", accuracy_score(y_test, svc_pred))\n",
    "print(\"SGD Accuracy Score: \", accuracy_score(y_test, sgd_pred))"
   ]
  },
  {
   "cell_type": "code",
   "execution_count": 8,
   "metadata": {},
   "outputs": [
    {
     "data": {
      "image/png": "[encoded data removed]",
      "text/plain": [
       "<Figure size 792x288 with 1 Axes>"
      ]
     },
     "metadata": {
      "needs_background": "light"
     },
     "output_type": "display_data"
    }
   ],
   "source": [
    "# Compute the slope and bias of each decision boundary\n",
    "w2 = -svc.coef_[0, 0]/svc.coef_[0, 1]\n",
    "b2 = -svc.intercept_[0]/svc.coef_[0, 1]\n",
    "w3 = -sgd.coef_[0, 0]/sgd.coef_[0, 1]\n",
    "b3 = -sgd.intercept_[0]/sgd.coef_[0, 1]\n",
    "\n",
    "# Transform the decision boundary lines back to the original scale\n",
    "line2 = scaler.inverse_transform([[-10, -10 * w2 + b2], [10, 10 * w2 + b2]])\n",
    "line3 = scaler.inverse_transform([[-10, -10 * w3 + b3], [10, 10 * w3 + b3]])\n",
    "\n",
    "# Plot all three decision boundaries\n",
    "plt.figure(figsize=(11, 4))\n",
    "plt.plot(line2[:, 0], line2[:, 1], \"b--\", linewidth=2, label=\"LinearSVC\")\n",
    "plt.plot(line3[:, 0], line3[:, 1], \"r-\", label=\"SGDClassifier\")\n",
    "plt.plot(X[:, 0][y==1], X[:, 1][y==1], \"bs\") \n",
    "plt.plot(X[:, 0][y==0], X[:, 1][y==0], \"g^\")\n",
    "plt.legend(loc=\"upper center\", fontsize=14)\n",
    "plt.axis([0, 12, 3, 11])\n",
    "\n",
    "plt.show()"
   ]
  },
  {
   "cell_type": "markdown",
   "metadata": {},
   "source": [
    "Both models are close enough!"
   ]
  },
  {
   "cell_type": "markdown",
   "metadata": {},
   "source": [
    "#### Q9. Train an SVM classifier on the MNIST dataset. Since SVM classifiers are binary classifiers, you will need to use *one-versus-all* to classify all 10 digits. You may want to tune the hyperparameters using small validation set to speed up the process. What accuracy can you reach?"
   ]
  },
  {
   "cell_type": "code",
   "execution_count": 19,
   "metadata": {},
   "outputs": [],
   "source": [
    "import numpy as np\n",
    "\n",
    "from sklearn.datasets import fetch_openml\n",
    "from sklearn.model_selection import train_test_split, RandomizedSearchCV\n",
    "from sklearn.preprocessing import StandardScaler\n",
    "from sklearn.metrics import accuracy_score\n",
    "from sklearn.svm import SVC"
   ]
  },
  {
   "cell_type": "code",
   "execution_count": 10,
   "metadata": {},
   "outputs": [],
   "source": [
    "mnist = fetch_openml('mnist_784')"
   ]
  },
  {
   "cell_type": "code",
   "execution_count": 11,
   "metadata": {},
   "outputs": [],
   "source": [
    "# get X and y\n",
    "X = mnist.data\n",
    "y = mnist.target\n",
    "\n",
    "X_train = X[:60000]\n",
    "y_train = y[:60000]\n",
    "X_test = X[60000:]\n",
    "y_test = y[60000:]"
   ]
  },
  {
   "cell_type": "code",
   "execution_count": 12,
   "metadata": {},
   "outputs": [],
   "source": [
    "# shuffle dataset\n",
    "np.random.seed(42)\n",
    "rnd_idx = np.random.permutation(60000)\n",
    "\n",
    "X_train = X_train[rnd_idx]\n",
    "y_train = y_train[rnd_idx]"
   ]
  },
  {
   "cell_type": "code",
   "execution_count": 13,
   "metadata": {},
   "outputs": [],
   "source": [
    "# scaling features\n",
    "scaler = StandardScaler()\n",
    "\n",
    "X_train_scaled = scaler.fit_transform(X_train)\n",
    "X_test_scaled = scaler.transform(X_test)"
   ]
  },
  {
   "cell_type": "code",
   "execution_count": 14,
   "metadata": {},
   "outputs": [
    {
     "data": {
      "text/plain": [
       "((60000, 784), (10000, 784))"
      ]
     },
     "execution_count": 14,
     "metadata": {},
     "output_type": "execute_result"
    }
   ],
   "source": [
    "X_train_scaled.shape, X_test_scaled.shape"
   ]
  },
  {
   "cell_type": "code",
   "execution_count": 18,
   "metadata": {},
   "outputs": [
    {
     "name": "stderr",
     "output_type": "stream",
     "text": [
      "/home/paperspace/.local/lib/python3.7/site-packages/sklearn/svm/base.py:193: FutureWarning: The default value of gamma will change from 'auto' to 'scale' in version 0.22 to account better for unscaled features. Set gamma explicitly to 'auto' or 'scale' to avoid this warning.\n",
      "  \"avoid this warning.\", FutureWarning)\n"
     ]
    },
    {
     "name": "stdout",
     "output_type": "stream",
     "text": [
      "Accuracy of SVM rbf kernel:  0.9425\n"
     ]
    }
   ],
   "source": [
    "# too long to run so taking 10000 instances only\n",
    "# rbf \n",
    "svm = SVC(kernel='rbf', decision_function_shape='ovr', random_state=42)\n",
    "\n",
    "# fit\n",
    "svm.fit(X_train_scaled[:10000], y_train[:10000])\n",
    "\n",
    "# predict\n",
    "y_pred = svm.predict(X_test_scaled)\n",
    "\n",
    "# evaluate\n",
    "print(\"Accuracy of SVM rbf kernel: \", accuracy_score(y_test, y_pred))"
   ]
  },
  {
   "cell_type": "code",
   "execution_count": 20,
   "metadata": {},
   "outputs": [
    {
     "name": "stdout",
     "output_type": "stream",
     "text": [
      "Fitting 3 folds for each of 10 candidates, totalling 30 fits\n",
      "[CV] gamma=0.01, C=5 .................................................\n"
     ]
    },
    {
     "name": "stderr",
     "output_type": "stream",
     "text": [
      "[Parallel(n_jobs=1)]: Using backend SequentialBackend with 1 concurrent workers.\n"
     ]
    },
    {
     "name": "stdout",
     "output_type": "stream",
     "text": [
      "[CV] .................................. gamma=0.01, C=5, total=   0.9s\n",
      "[CV] gamma=0.01, C=5 .................................................\n"
     ]
    },
    {
     "name": "stderr",
     "output_type": "stream",
     "text": [
      "[Parallel(n_jobs=1)]: Done   1 out of   1 | elapsed:    0.9s remaining:    0.0s\n"
     ]
    },
    {
     "name": "stdout",
     "output_type": "stream",
     "text": [
      "[CV] .................................. gamma=0.01, C=5, total=   0.9s\n",
      "[CV] gamma=0.01, C=5 .................................................\n",
      "[CV] .................................. gamma=0.01, C=5, total=   0.9s\n",
      "[CV] gamma=0.1, C=1 ..................................................\n",
      "[CV] ................................... gamma=0.1, C=1, total=   1.0s\n",
      "[CV] gamma=0.1, C=1 ..................................................\n",
      "[CV] ................................... gamma=0.1, C=1, total=   1.0s\n",
      "[CV] gamma=0.1, C=1 ..................................................\n",
      "[CV] ................................... gamma=0.1, C=1, total=   1.0s\n",
      "[CV] gamma=0.1, C=10 .................................................\n",
      "[CV] .................................. gamma=0.1, C=10, total=   1.0s\n",
      "[CV] gamma=0.1, C=10 .................................................\n",
      "[CV] .................................. gamma=0.1, C=10, total=   1.0s\n",
      "[CV] gamma=0.1, C=10 .................................................\n",
      "[CV] .................................. gamma=0.1, C=10, total=   1.0s\n",
      "[CV] gamma=0.01, C=1 .................................................\n",
      "[CV] .................................. gamma=0.01, C=1, total=   0.9s\n",
      "[CV] gamma=0.01, C=1 .................................................\n",
      "[CV] .................................. gamma=0.01, C=1, total=   0.9s\n",
      "[CV] gamma=0.01, C=1 .................................................\n",
      "[CV] .................................. gamma=0.01, C=1, total=   0.9s\n",
      "[CV] gamma=0.1, C=5 ..................................................\n",
      "[CV] ................................... gamma=0.1, C=5, total=   1.0s\n",
      "[CV] gamma=0.1, C=5 ..................................................\n",
      "[CV] ................................... gamma=0.1, C=5, total=   1.0s\n",
      "[CV] gamma=0.1, C=5 ..................................................\n",
      "[CV] ................................... gamma=0.1, C=5, total=   1.0s\n",
      "[CV] gamma=0.01, C=10 ................................................\n",
      "[CV] ................................. gamma=0.01, C=10, total=   0.9s\n",
      "[CV] gamma=0.01, C=10 ................................................\n",
      "[CV] ................................. gamma=0.01, C=10, total=   0.9s\n",
      "[CV] gamma=0.01, C=10 ................................................\n",
      "[CV] ................................. gamma=0.01, C=10, total=   0.9s\n",
      "[CV] gamma=5, C=5 ....................................................\n",
      "[CV] ..................................... gamma=5, C=5, total=   0.9s\n",
      "[CV] gamma=5, C=5 ....................................................\n",
      "[CV] ..................................... gamma=5, C=5, total=   0.9s\n",
      "[CV] gamma=5, C=5 ....................................................\n",
      "[CV] ..................................... gamma=5, C=5, total=   0.9s\n",
      "[CV] gamma=5, C=10 ...................................................\n",
      "[CV] .................................... gamma=5, C=10, total=   0.9s\n",
      "[CV] gamma=5, C=10 ...................................................\n",
      "[CV] .................................... gamma=5, C=10, total=   0.9s\n",
      "[CV] gamma=5, C=10 ...................................................\n",
      "[CV] .................................... gamma=5, C=10, total=   0.9s\n",
      "[CV] gamma=1, C=5 ....................................................\n",
      "[CV] ..................................... gamma=1, C=5, total=   0.9s\n",
      "[CV] gamma=1, C=5 ....................................................\n",
      "[CV] ..................................... gamma=1, C=5, total=   0.9s\n",
      "[CV] gamma=1, C=5 ....................................................\n",
      "[CV] ..................................... gamma=1, C=5, total=   1.0s\n",
      "[CV] gamma=0.001, C=5 ................................................\n",
      "[CV] ................................. gamma=0.001, C=5, total=   0.6s\n",
      "[CV] gamma=0.001, C=5 ................................................\n",
      "[CV] ................................. gamma=0.001, C=5, total=   0.6s\n",
      "[CV] gamma=0.001, C=5 ................................................\n",
      "[CV] ................................. gamma=0.001, C=5, total=   0.7s\n"
     ]
    },
    {
     "name": "stderr",
     "output_type": "stream",
     "text": [
      "[Parallel(n_jobs=1)]: Done  30 out of  30 | elapsed:   27.6s finished\n"
     ]
    },
    {
     "data": {
      "text/plain": [
       "RandomizedSearchCV(cv=3, error_score='raise-deprecating',\n",
       "                   estimator=SVC(C=1.0, cache_size=200, class_weight=None,\n",
       "                                 coef0=0.0, decision_function_shape='ovr',\n",
       "                                 degree=3, gamma='auto_deprecated',\n",
       "                                 kernel='rbf', max_iter=-1, probability=False,\n",
       "                                 random_state=42, shrinking=True, tol=0.001,\n",
       "                                 verbose=False),\n",
       "                   iid='warn', n_iter=10, n_jobs=None,\n",
       "                   param_distributions={'C': [1, 5, 10],\n",
       "                                        'gamma': [0.001, 0.01, 0.1, 1, 5]},\n",
       "                   pre_dispatch='2*n_jobs', random_state=None, refit=True,\n",
       "                   return_train_score=False, scoring=None, verbose=2)"
      ]
     },
     "execution_count": 20,
     "metadata": {},
     "output_type": "execute_result"
    }
   ],
   "source": [
    "# hyperparameter tuning\n",
    "params = {\n",
    "    'gamma': [0.001, 0.01, 0.1, 1, 5],\n",
    "    'C': [1, 5, 10]\n",
    "}\n",
    "\n",
    "rnd_search_cv = RandomizedSearchCV(svm, \n",
    "                                   params, \n",
    "                                   n_iter=10, \n",
    "                                   verbose=2, \n",
    "                                   cv=3)\n",
    "\n",
    "rnd_search_cv.fit(X_train_scaled[:1000], y_train[:1000])"
   ]
  },
  {
   "cell_type": "code",
   "execution_count": 21,
   "metadata": {},
   "outputs": [
    {
     "data": {
      "text/plain": [
       "SVC(C=5, cache_size=200, class_weight=None, coef0=0.0,\n",
       "    decision_function_shape='ovr', degree=3, gamma=0.001, kernel='rbf',\n",
       "    max_iter=-1, probability=False, random_state=42, shrinking=True, tol=0.001,\n",
       "    verbose=False)"
      ]
     },
     "execution_count": 21,
     "metadata": {},
     "output_type": "execute_result"
    }
   ],
   "source": [
    "# best estimator\n",
    "rnd_search_cv.best_estimator_"
   ]
  },
  {
   "cell_type": "code",
   "execution_count": 22,
   "metadata": {},
   "outputs": [
    {
     "data": {
      "text/plain": [
       "0.869"
      ]
     },
     "execution_count": 22,
     "metadata": {},
     "output_type": "execute_result"
    }
   ],
   "source": [
    "# best cross-validation score\n",
    "rnd_search_cv.best_score_"
   ]
  },
  {
   "cell_type": "code",
   "execution_count": 24,
   "metadata": {},
   "outputs": [
    {
     "name": "stdout",
     "output_type": "stream",
     "text": [
      "Accuracy of SVM rbf kernel:  0.9511\n"
     ]
    }
   ],
   "source": [
    "# fit best estimator on the dataset\n",
    "best_svm = rnd_search_cv.best_estimator_\n",
    "\n",
    "# fit\n",
    "best_svm.fit(X_train_scaled[:10000], y_train[:10000])\n",
    "\n",
    "# predict\n",
    "y_pred = best_svm.predict(X_test_scaled)\n",
    "\n",
    "# evaluate\n",
    "print(\"Accuracy of SVM rbf kernel: \", accuracy_score(y_test, y_pred))"
   ]
  },
  {
   "cell_type": "markdown",
   "metadata": {},
   "source": [
    "#### Q10. Train SVM regressor on the California Housing dataset."
   ]
  },
  {
   "cell_type": "code",
   "execution_count": 44,
   "metadata": {},
   "outputs": [],
   "source": [
    "from sklearn.datasets import fetch_california_housing\n",
    "from sklearn.svm import SVR\n",
    "from sklearn.metrics import mean_squared_error\n",
    "from scipy.stats import reciprocal, uniform"
   ]
  },
  {
   "cell_type": "code",
   "execution_count": 36,
   "metadata": {},
   "outputs": [],
   "source": [
    "housing = fetch_california_housing()\n",
    "X = housing[\"data\"]\n",
    "y = housing[\"target\"]"
   ]
  },
  {
   "cell_type": "code",
   "execution_count": 37,
   "metadata": {},
   "outputs": [
    {
     "data": {
      "text/plain": [
       "((16512, 8), (4128, 8), (16512,), (4128,))"
      ]
     },
     "execution_count": 37,
     "metadata": {},
     "output_type": "execute_result"
    }
   ],
   "source": [
    "# split into train and test\n",
    "X_train, X_test, y_train, y_test = train_test_split(X, \n",
    "                                                    y, \n",
    "                                                    test_size=0.2, \n",
    "                                                    random_state=42)\n",
    "\n",
    "X_train.shape, X_test.shape, y_train.shape, y_test.shape"
   ]
  },
  {
   "cell_type": "code",
   "execution_count": 38,
   "metadata": {},
   "outputs": [
    {
     "data": {
      "text/plain": [
       "((16512, 8), (4128, 8))"
      ]
     },
     "execution_count": 38,
     "metadata": {},
     "output_type": "execute_result"
    }
   ],
   "source": [
    "# scale\n",
    "scaler = StandardScaler()\n",
    "\n",
    "X_train_scaled = scaler.fit_transform(X_train)\n",
    "X_test_scaled = scaler.transform(X_test)\n",
    "\n",
    "X_train_scaled.shape, X_test_scaled.shape"
   ]
  },
  {
   "cell_type": "code",
   "execution_count": 42,
   "metadata": {},
   "outputs": [
    {
     "name": "stdout",
     "output_type": "stream",
     "text": [
      "MSE on training set:  0.3569935152774717\n",
      "RMSE on training set:  0.5974893432333933\n"
     ]
    }
   ],
   "source": [
    "# fit SVM regressor\n",
    "svr = SVR()\n",
    "\n",
    "# fit\n",
    "svr.fit(X_train_scaled, y_train)\n",
    "\n",
    "# predict\n",
    "y_pred = svr.predict(X_train_scaled)\n",
    "\n",
    "# evaluate\n",
    "print(\"MSE on training set: \", mean_squared_error(y_train, y_pred))\n",
    "print(\"RMSE on training set: \", np.sqrt(mean_squared_error(y_train, y_pred)))"
   ]
  },
  {
   "cell_type": "code",
   "execution_count": 45,
   "metadata": {},
   "outputs": [
    {
     "name": "stdout",
     "output_type": "stream",
     "text": [
      "Fitting 3 folds for each of 10 candidates, totalling 30 fits\n",
      "[CV] C=9.552357567109635, gamma=0.009118854871587641 .................\n"
     ]
    },
    {
     "name": "stderr",
     "output_type": "stream",
     "text": [
      "[Parallel(n_jobs=1)]: Using backend SequentialBackend with 1 concurrent workers.\n"
     ]
    },
    {
     "name": "stdout",
     "output_type": "stream",
     "text": [
      "[CV] .. C=9.552357567109635, gamma=0.009118854871587641, total=   8.7s\n",
      "[CV] C=9.552357567109635, gamma=0.009118854871587641 .................\n"
     ]
    },
    {
     "name": "stderr",
     "output_type": "stream",
     "text": [
      "[Parallel(n_jobs=1)]: Done   1 out of   1 | elapsed:    8.7s remaining:    0.0s\n"
     ]
    },
    {
     "name": "stdout",
     "output_type": "stream",
     "text": [
      "[CV] .. C=9.552357567109635, gamma=0.009118854871587641, total=   8.6s\n",
      "[CV] C=9.552357567109635, gamma=0.009118854871587641 .................\n",
      "[CV] .. C=9.552357567109635, gamma=0.009118854871587641, total=   8.4s\n",
      "[CV] C=4.335232453578552, gamma=0.018385511949522124 .................\n",
      "[CV] .. C=4.335232453578552, gamma=0.018385511949522124, total=   8.0s\n",
      "[CV] C=4.335232453578552, gamma=0.018385511949522124 .................\n",
      "[CV] .. C=4.335232453578552, gamma=0.018385511949522124, total=   8.0s\n",
      "[CV] C=4.335232453578552, gamma=0.018385511949522124 .................\n",
      "[CV] .. C=4.335232453578552, gamma=0.018385511949522124, total=   8.1s\n",
      "[CV] C=6.335534109540218, gamma=0.0011263118134606108 ................\n",
      "[CV] . C=6.335534109540218, gamma=0.0011263118134606108, total=   8.0s\n",
      "[CV] C=6.335534109540218, gamma=0.0011263118134606108 ................\n",
      "[CV] . C=6.335534109540218, gamma=0.0011263118134606108, total=   7.9s\n",
      "[CV] C=6.335534109540218, gamma=0.0011263118134606108 ................\n",
      "[CV] . C=6.335534109540218, gamma=0.0011263118134606108, total=   7.9s\n",
      "[CV] C=10.572971700825061, gamma=0.01381957639278581 .................\n",
      "[CV] .. C=10.572971700825061, gamma=0.01381957639278581, total=   8.7s\n",
      "[CV] C=10.572971700825061, gamma=0.01381957639278581 .................\n",
      "[CV] .. C=10.572971700825061, gamma=0.01381957639278581, total=   8.7s\n",
      "[CV] C=10.572971700825061, gamma=0.01381957639278581 .................\n",
      "[CV] .. C=10.572971700825061, gamma=0.01381957639278581, total=   8.8s\n",
      "[CV] C=9.744917916776693, gamma=0.029461872248440116 .................\n",
      "[CV] .. C=9.744917916776693, gamma=0.029461872248440116, total=   9.4s\n",
      "[CV] C=9.744917916776693, gamma=0.029461872248440116 .................\n",
      "[CV] .. C=9.744917916776693, gamma=0.029461872248440116, total=   9.4s\n",
      "[CV] C=9.744917916776693, gamma=0.029461872248440116 .................\n",
      "[CV] .. C=9.744917916776693, gamma=0.029461872248440116, total=   9.5s\n",
      "[CV] C=4.4083299336553985, gamma=0.06343310706166702 .................\n",
      "[CV] .. C=4.4083299336553985, gamma=0.06343310706166702, total=   8.9s\n",
      "[CV] C=4.4083299336553985, gamma=0.06343310706166702 .................\n",
      "[CV] .. C=4.4083299336553985, gamma=0.06343310706166702, total=   8.8s\n",
      "[CV] C=4.4083299336553985, gamma=0.06343310706166702 .................\n",
      "[CV] .. C=4.4083299336553985, gamma=0.06343310706166702, total=   9.0s\n",
      "[CV] C=8.904223531047851, gamma=0.0072374112941681265 ................\n",
      "[CV] . C=8.904223531047851, gamma=0.0072374112941681265, total=   8.4s\n",
      "[CV] C=8.904223531047851, gamma=0.0072374112941681265 ................\n",
      "[CV] . C=8.904223531047851, gamma=0.0072374112941681265, total=   8.3s\n",
      "[CV] C=8.904223531047851, gamma=0.0072374112941681265 ................\n",
      "[CV] . C=8.904223531047851, gamma=0.0072374112941681265, total=   8.3s\n",
      "[CV] C=9.404782480032221, gamma=0.0034922446876456603 ................\n",
      "[CV] . C=9.404782480032221, gamma=0.0034922446876456603, total=   8.2s\n",
      "[CV] C=9.404782480032221, gamma=0.0034922446876456603 ................\n",
      "[CV] . C=9.404782480032221, gamma=0.0034922446876456603, total=   8.2s\n",
      "[CV] C=9.404782480032221, gamma=0.0034922446876456603 ................\n",
      "[CV] . C=9.404782480032221, gamma=0.0034922446876456603, total=   8.3s\n",
      "[CV] C=7.7068347882513555, gamma=0.0016949757786141493 ...............\n",
      "[CV]  C=7.7068347882513555, gamma=0.0016949757786141493, total=   8.1s\n",
      "[CV] C=7.7068347882513555, gamma=0.0016949757786141493 ...............\n",
      "[CV]  C=7.7068347882513555, gamma=0.0016949757786141493, total=   8.2s\n",
      "[CV] C=7.7068347882513555, gamma=0.0016949757786141493 ...............\n",
      "[CV]  C=7.7068347882513555, gamma=0.0016949757786141493, total=   8.2s\n",
      "[CV] C=9.657677354136453, gamma=0.02876506328879277 ..................\n",
      "[CV] ... C=9.657677354136453, gamma=0.02876506328879277, total=   9.7s\n",
      "[CV] C=9.657677354136453, gamma=0.02876506328879277 ..................\n",
      "[CV] ... C=9.657677354136453, gamma=0.02876506328879277, total=   9.4s\n",
      "[CV] C=9.657677354136453, gamma=0.02876506328879277 ..................\n",
      "[CV] ... C=9.657677354136453, gamma=0.02876506328879277, total=   9.3s\n"
     ]
    },
    {
     "name": "stderr",
     "output_type": "stream",
     "text": [
      "[Parallel(n_jobs=1)]: Done  30 out of  30 | elapsed:  4.3min finished\n"
     ]
    },
    {
     "data": {
      "text/plain": [
       "RandomizedSearchCV(cv=3, error_score='raise-deprecating',\n",
       "                   estimator=SVR(C=1.0, cache_size=200, coef0=0.0, degree=3,\n",
       "                                 epsilon=0.1, gamma='auto_deprecated',\n",
       "                                 kernel='rbf', max_iter=-1, shrinking=True,\n",
       "                                 tol=0.001, verbose=False),\n",
       "                   iid='warn', n_iter=10, n_jobs=None,\n",
       "                   param_distributions={'C': <scipy.stats._distn_infrastructure.rv_frozen object at 0x7fedabd26e10>,\n",
       "                                        'gamma': <scipy.stats._distn_infrastructure.rv_frozen object at 0x7fedabd26710>},\n",
       "                   pre_dispatch='2*n_jobs', random_state=None, refit=True,\n",
       "                   return_train_score=False, scoring=None, verbose=2)"
      ]
     },
     "execution_count": 45,
     "metadata": {},
     "output_type": "execute_result"
    }
   ],
   "source": [
    "# using randomized search to find the best estimator\n",
    "params = {\n",
    "    'gamma': reciprocal(0.001, 0.1),\n",
    "    'C': uniform(1, 10)\n",
    "}\n",
    "\n",
    "rnd_search_cv = RandomizedSearchCV(svr, \n",
    "                                   params, \n",
    "                                   n_iter=10, \n",
    "                                   verbose=2, \n",
    "                                   cv=3)\n",
    "\n",
    "rnd_search_cv.fit(X_train_scaled, y_train)"
   ]
  },
  {
   "cell_type": "code",
   "execution_count": 46,
   "metadata": {},
   "outputs": [
    {
     "data": {
      "text/plain": [
       "SVR(C=4.4083299336553985, cache_size=200, coef0=0.0, degree=3, epsilon=0.1,\n",
       "    gamma=0.06343310706166702, kernel='rbf', max_iter=-1, shrinking=True,\n",
       "    tol=0.001, verbose=False)"
      ]
     },
     "execution_count": 46,
     "metadata": {},
     "output_type": "execute_result"
    }
   ],
   "source": [
    "# best estimator\n",
    "rnd_search_cv.best_estimator_"
   ]
  },
  {
   "cell_type": "code",
   "execution_count": 47,
   "metadata": {},
   "outputs": [
    {
     "data": {
      "text/plain": [
       "0.7302244434730388"
      ]
     },
     "execution_count": 47,
     "metadata": {},
     "output_type": "execute_result"
    }
   ],
   "source": [
    "# best cv score\n",
    "rnd_search_cv.best_score_"
   ]
  },
  {
   "cell_type": "code",
   "execution_count": 49,
   "metadata": {},
   "outputs": [
    {
     "name": "stdout",
     "output_type": "stream",
     "text": [
      "MSE on training set:  0.34019173256809027\n",
      "RMSE on training set:  0.5832595756334312\n"
     ]
    }
   ],
   "source": [
    "# check best model performance on training\n",
    "best_svr = rnd_search_cv.best_estimator_\n",
    "\n",
    "# fit\n",
    "best_svr.fit(X_train_scaled, y_train)\n",
    "\n",
    "# predict\n",
    "y_pred = best_svr.predict(X_train_scaled)\n",
    "\n",
    "# evaluate\n",
    "print(\"MSE on training set: \", mean_squared_error(y_train, y_pred))\n",
    "print(\"RMSE on training set: \", np.sqrt(mean_squared_error(y_train, y_pred)))"
   ]
  },
  {
   "cell_type": "code",
   "execution_count": 50,
   "metadata": {},
   "outputs": [
    {
     "name": "stdout",
     "output_type": "stream",
     "text": [
      "MSE on test set:  0.3641224856117874\n",
      "RMSE on test set:  0.6034256255842864\n"
     ]
    }
   ],
   "source": [
    "# evaluate on test set\n",
    "y_pred = best_svr.predict(X_test_scaled)\n",
    "\n",
    "# evaluate\n",
    "print(\"MSE on test set: \", mean_squared_error(y_test, y_pred))\n",
    "print(\"RMSE on test set: \", np.sqrt(mean_squared_error(y_test, y_pred)))"
   ]
  },
  {
   "cell_type": "code",
   "execution_count": null,
   "metadata": {},
   "outputs": [],
   "source": []
  }
 ],
 "metadata": {
  "kernelspec": {
   "display_name": "my-ml",
   "language": "python",
   "name": "my-ml"
  },
  "language_info": {
   "codemirror_mode": {
    "name": "ipython",
    "version": 3
   },
   "file_extension": ".py",
   "mimetype": "text/x-python",
   "name": "python",
   "nbconvert_exporter": "python",
   "pygments_lexer": "ipython3",
   "version": "3.7.9"
  }
 },
 "nbformat": 4,
 "nbformat_minor": 2
}
