{
 "cells": [
  {
   "cell_type": "code",
   "execution_count": 69,
   "metadata": {},
   "outputs": [],
   "source": [
    "import numpy as np\n",
    "import pandas as pd\n",
    "from time import time\n",
    "import re, string, unicodedata\n",
    "from collections import defaultdict\n",
    "import multiprocessing\n",
    "\n",
    "# plots\n",
    "import matplotlib.pyplot as plt\n",
    "%matplotlib inline\n",
    "import seaborn as sns\n",
    "\n",
    "# cleaning and preprocessing\n",
    "from contractions import CONTRACTION_MAP\n",
    "import nltk\n",
    "from nltk.corpus import stopwords\n",
    "from nltk.corpus import wordnet\n",
    "from nltk.stem import WordNetLemmatizer\n",
    "from nltk import word_tokenize, sent_tokenize\n",
    "\n",
    "# bigrams\n",
    "from gensim.models.phrases import Phrases, Phraser\n",
    "\n",
    "# Word2Vec\n",
    "from gensim.models import Word2Vec\n",
    "\n",
    "# Dimensionality Reduction\n",
    "from sklearn.decomposition import PCA\n",
    "from sklearn.manifold import TSNE\n",
    "\n",
    "# logging to monitor gensim\n",
    "import logging\n",
    "logging.basicConfig(format=\"%(levelname)s - %(asctime)s: %(message)s\", datefmt= '%H:%M:%S', level=logging.INFO)"
   ]
  },
  {
   "cell_type": "markdown",
   "metadata": {},
   "source": [
    "## Dataset"
   ]
  },
  {
   "cell_type": "code",
   "execution_count": 2,
   "metadata": {},
   "outputs": [
    {
     "data": {
      "text/html": [
       "<div>\n",
       "<style scoped>\n",
       "    .dataframe tbody tr th:only-of-type {\n",
       "        vertical-align: middle;\n",
       "    }\n",
       "\n",
       "    .dataframe tbody tr th {\n",
       "        vertical-align: top;\n",
       "    }\n",
       "\n",
       "    .dataframe thead th {\n",
       "        text-align: right;\n",
       "    }\n",
       "</style>\n",
       "<table border=\"1\" class=\"dataframe\">\n",
       "  <thead>\n",
       "    <tr style=\"text-align: right;\">\n",
       "      <th></th>\n",
       "      <th>id</th>\n",
       "      <th>season</th>\n",
       "      <th>episode</th>\n",
       "      <th>scene</th>\n",
       "      <th>line_text</th>\n",
       "      <th>speaker</th>\n",
       "      <th>deleted</th>\n",
       "    </tr>\n",
       "  </thead>\n",
       "  <tbody>\n",
       "    <tr>\n",
       "      <th>0</th>\n",
       "      <td>1</td>\n",
       "      <td>1</td>\n",
       "      <td>1</td>\n",
       "      <td>1</td>\n",
       "      <td>All right Jim. Your quarterlies look very good...</td>\n",
       "      <td>Michael</td>\n",
       "      <td>False</td>\n",
       "    </tr>\n",
       "    <tr>\n",
       "      <th>1</th>\n",
       "      <td>2</td>\n",
       "      <td>1</td>\n",
       "      <td>1</td>\n",
       "      <td>1</td>\n",
       "      <td>Oh, I told you. I couldn't close it. So...</td>\n",
       "      <td>Jim</td>\n",
       "      <td>False</td>\n",
       "    </tr>\n",
       "    <tr>\n",
       "      <th>2</th>\n",
       "      <td>3</td>\n",
       "      <td>1</td>\n",
       "      <td>1</td>\n",
       "      <td>1</td>\n",
       "      <td>So you've come to the master for guidance? Is ...</td>\n",
       "      <td>Michael</td>\n",
       "      <td>False</td>\n",
       "    </tr>\n",
       "    <tr>\n",
       "      <th>3</th>\n",
       "      <td>4</td>\n",
       "      <td>1</td>\n",
       "      <td>1</td>\n",
       "      <td>1</td>\n",
       "      <td>Actually, you called me in here, but yeah.</td>\n",
       "      <td>Jim</td>\n",
       "      <td>False</td>\n",
       "    </tr>\n",
       "    <tr>\n",
       "      <th>4</th>\n",
       "      <td>5</td>\n",
       "      <td>1</td>\n",
       "      <td>1</td>\n",
       "      <td>1</td>\n",
       "      <td>All right. Well, let me show you how it's done.</td>\n",
       "      <td>Michael</td>\n",
       "      <td>False</td>\n",
       "    </tr>\n",
       "  </tbody>\n",
       "</table>\n",
       "</div>"
      ],
      "text/plain": [
       "   id  season  episode  scene  \\\n",
       "0   1       1        1      1   \n",
       "1   2       1        1      1   \n",
       "2   3       1        1      1   \n",
       "3   4       1        1      1   \n",
       "4   5       1        1      1   \n",
       "\n",
       "                                           line_text  speaker  deleted  \n",
       "0  All right Jim. Your quarterlies look very good...  Michael    False  \n",
       "1         Oh, I told you. I couldn't close it. So...      Jim    False  \n",
       "2  So you've come to the master for guidance? Is ...  Michael    False  \n",
       "3         Actually, you called me in here, but yeah.      Jim    False  \n",
       "4    All right. Well, let me show you how it's done.  Michael    False  "
      ]
     },
     "execution_count": 2,
     "metadata": {},
     "output_type": "execute_result"
    }
   ],
   "source": [
    "df = pd.read_csv('https://query.data.world/s/nu4cetyeefkjloxph4ytsbis5zejjg'); df.head()"
   ]
  },
  {
   "cell_type": "code",
   "execution_count": 3,
   "metadata": {},
   "outputs": [
    {
     "data": {
      "text/plain": [
       "(59909, 7)"
      ]
     },
     "execution_count": 3,
     "metadata": {},
     "output_type": "execute_result"
    }
   ],
   "source": [
    "df.shape"
   ]
  },
  {
   "cell_type": "code",
   "execution_count": 4,
   "metadata": {},
   "outputs": [
    {
     "data": {
      "text/html": [
       "<div>\n",
       "<style scoped>\n",
       "    .dataframe tbody tr th:only-of-type {\n",
       "        vertical-align: middle;\n",
       "    }\n",
       "\n",
       "    .dataframe tbody tr th {\n",
       "        vertical-align: top;\n",
       "    }\n",
       "\n",
       "    .dataframe thead th {\n",
       "        text-align: right;\n",
       "    }\n",
       "</style>\n",
       "<table border=\"1\" class=\"dataframe\">\n",
       "  <thead>\n",
       "    <tr style=\"text-align: right;\">\n",
       "      <th></th>\n",
       "      <th>speaker</th>\n",
       "      <th>line_text</th>\n",
       "    </tr>\n",
       "  </thead>\n",
       "  <tbody>\n",
       "    <tr>\n",
       "      <th>59907</th>\n",
       "      <td>Jim</td>\n",
       "      <td>I sold paper at this company for 12 years. My ...</td>\n",
       "    </tr>\n",
       "    <tr>\n",
       "      <th>59908</th>\n",
       "      <td>Pam</td>\n",
       "      <td>I thought it was weird when you picked us to m...</td>\n",
       "    </tr>\n",
       "  </tbody>\n",
       "</table>\n",
       "</div>"
      ],
      "text/plain": [
       "      speaker                                          line_text\n",
       "59907     Jim  I sold paper at this company for 12 years. My ...\n",
       "59908     Pam  I thought it was weird when you picked us to m..."
      ]
     },
     "execution_count": 4,
     "metadata": {},
     "output_type": "execute_result"
    }
   ],
   "source": [
    "# filtering columns\n",
    "COLUMNS = [\"speaker\", \"line_text\"]\n",
    "df = df[COLUMNS];\n",
    "df.tail(2)"
   ]
  },
  {
   "cell_type": "code",
   "execution_count": 5,
   "metadata": {},
   "outputs": [
    {
     "data": {
      "text/plain": [
       "speaker      0\n",
       "line_text    0\n",
       "dtype: int64"
      ]
     },
     "execution_count": 5,
     "metadata": {},
     "output_type": "execute_result"
    }
   ],
   "source": [
    "# null check\n",
    "df.isnull().sum()"
   ]
  },
  {
   "cell_type": "markdown",
   "metadata": {},
   "source": [
    "## Cleaning\n",
    "\n",
    "Cleaning pipeline consists of:\n",
    "\n",
    "- Expanding contractions (y'all -> you all)\n",
    "- Lowercase\n",
    "- Remove punctuations, stopwords, special characters, non-alphanumeric\n",
    "- Lemmatization"
   ]
  },
  {
   "cell_type": "code",
   "execution_count": 6,
   "metadata": {},
   "outputs": [
    {
     "data": {
      "text/plain": [
       "'You all cannot expand contractions I would think'"
      ]
     },
     "execution_count": 6,
     "metadata": {},
     "output_type": "execute_result"
    }
   ],
   "source": [
    "# Contractions helper function\n",
    "def expand_contractions(text, contraction_mapping=CONTRACTION_MAP):\n",
    "    \n",
    "    contractions_pattern = re.compile('({})'.format('|'.join(contraction_mapping.keys())), \n",
    "                                      flags=re.IGNORECASE|re.DOTALL)\n",
    "    def expand_match(contraction):\n",
    "        match = contraction.group(0)\n",
    "        first_char = match[0]\n",
    "        expanded_contraction = contraction_mapping.get(match)\\\n",
    "                                if contraction_mapping.get(match)\\\n",
    "                                else contraction_mapping.get(match.lower())                       \n",
    "        expanded_contraction = first_char+expanded_contraction[1:]\n",
    "        return expanded_contraction\n",
    "        \n",
    "    expanded_text = contractions_pattern.sub(expand_match, text)\n",
    "    expanded_text = re.sub(\"'\", \"\", expanded_text)\n",
    "    return expanded_text\n",
    "\n",
    "expand_contractions(\"Y'all can't expand contractions I'd think\")"
   ]
  },
  {
   "cell_type": "code",
   "execution_count": 7,
   "metadata": {},
   "outputs": [],
   "source": [
    "df['contracted'] = df['line_text'].apply(lambda x: expand_contractions(x))"
   ]
  },
  {
   "cell_type": "code",
   "execution_count": 8,
   "metadata": {},
   "outputs": [],
   "source": [
    "# Tokenizing\n",
    "def tokenize(text):\n",
    "    tweet_tokens = re.split('\\W+', text)\n",
    "    return tweet_tokens"
   ]
  },
  {
   "cell_type": "code",
   "execution_count": 9,
   "metadata": {},
   "outputs": [],
   "source": [
    "df['tokens'] = df['contracted'].apply(lambda x: tokenize(x)).values"
   ]
  },
  {
   "cell_type": "code",
   "execution_count": 10,
   "metadata": {},
   "outputs": [],
   "source": [
    "def remove_non_ascii(words):\n",
    "    \"\"\"Remove non-ASCII characters from list of tokenized words\"\"\"\n",
    "    new_words = []\n",
    "    for word in words:\n",
    "        new_word = unicodedata.normalize('NFKD', word).encode('ascii', 'ignore').decode('utf-8', 'ignore')\n",
    "        new_words.append(new_word)\n",
    "    return new_words\n",
    "\n",
    "def to_lowercase(words):\n",
    "    new_words = []\n",
    "    for word in words:\n",
    "        new_word = word.lower()\n",
    "        new_words.append(new_word)\n",
    "    return new_words\n",
    "\n",
    "def remove_punctuation(words):\n",
    "    new_words = []\n",
    "    for word in words:\n",
    "        new_word = re.sub(r'[^\\w\\s]', '', word)\n",
    "        if new_word != '':\n",
    "            new_words.append(new_word)\n",
    "    return new_words\n",
    "\n",
    "def remove_stopwords(words):\n",
    "    \"\"\"Remove stop words from list of tokenized words\"\"\"\n",
    "    new_words = []\n",
    "    for word in words:\n",
    "        if word not in stopwords.words('english'):\n",
    "            new_words.append(word)\n",
    "    return new_words\n",
    "\n",
    "def get_wordnet_pos(word):\n",
    "    \"\"\"Map POS tag to first character lemmatize() accepts\"\"\"\n",
    "    tag = nltk.pos_tag([word])[0][1][0].upper()\n",
    "    tag_dict = {\"J\": wordnet.ADJ,\n",
    "                \"N\": wordnet.NOUN,\n",
    "                \"V\": wordnet.VERB,\n",
    "                \"R\": wordnet.ADV}\n",
    "\n",
    "    return tag_dict.get(tag, wordnet.NOUN)\n",
    "\n",
    "def lemmatize_verbs(words):\n",
    "    \"\"\"Lemmatize verbs in list of tokenized words\"\"\"\n",
    "    lemmatizer = WordNetLemmatizer()\n",
    "    lemmas = []\n",
    "    for word in words:\n",
    "        lemma = lemmatizer.lemmatize(word, get_wordnet_pos(word))\n",
    "        lemmas.append(lemma)\n",
    "    return lemmas"
   ]
  },
  {
   "cell_type": "code",
   "execution_count": 11,
   "metadata": {},
   "outputs": [],
   "source": [
    "def normalize(words):\n",
    "    words = remove_non_ascii(words)\n",
    "    words = to_lowercase(words)\n",
    "    words = remove_punctuation(words)\n",
    "    words = remove_stopwords(words)\n",
    "    words = lemmatize_verbs(words)\n",
    "    return words"
   ]
  },
  {
   "cell_type": "code",
   "execution_count": 12,
   "metadata": {},
   "outputs": [],
   "source": [
    "df['normalize'] = df['tokens'].apply(lambda x: normalize(x))"
   ]
  },
  {
   "cell_type": "code",
   "execution_count": 13,
   "metadata": {},
   "outputs": [
    {
     "data": {
      "text/html": [
       "<div>\n",
       "<style scoped>\n",
       "    .dataframe tbody tr th:only-of-type {\n",
       "        vertical-align: middle;\n",
       "    }\n",
       "\n",
       "    .dataframe tbody tr th {\n",
       "        vertical-align: top;\n",
       "    }\n",
       "\n",
       "    .dataframe thead th {\n",
       "        text-align: right;\n",
       "    }\n",
       "</style>\n",
       "<table border=\"1\" class=\"dataframe\">\n",
       "  <thead>\n",
       "    <tr style=\"text-align: right;\">\n",
       "      <th></th>\n",
       "      <th>speaker</th>\n",
       "      <th>line_text</th>\n",
       "      <th>contracted</th>\n",
       "      <th>tokens</th>\n",
       "      <th>normalize</th>\n",
       "    </tr>\n",
       "  </thead>\n",
       "  <tbody>\n",
       "    <tr>\n",
       "      <th>0</th>\n",
       "      <td>Michael</td>\n",
       "      <td>All right Jim. Your quarterlies look very good...</td>\n",
       "      <td>All right Jim. Your quarterlies look very good...</td>\n",
       "      <td>[All, right, Jim, Your, quarterlies, look, ver...</td>\n",
       "      <td>[right, jim, quarterly, look, good, thing, lib...</td>\n",
       "    </tr>\n",
       "    <tr>\n",
       "      <th>1</th>\n",
       "      <td>Jim</td>\n",
       "      <td>Oh, I told you. I couldn't close it. So...</td>\n",
       "      <td>Oh, I told you. I could not close it. So...</td>\n",
       "      <td>[Oh, I, told, you, I, could, not, close, it, S...</td>\n",
       "      <td>[oh, told, could, close]</td>\n",
       "    </tr>\n",
       "    <tr>\n",
       "      <th>2</th>\n",
       "      <td>Michael</td>\n",
       "      <td>So you've come to the master for guidance? Is ...</td>\n",
       "      <td>So you have come to the master for guidance? I...</td>\n",
       "      <td>[So, you, have, come, to, the, master, for, gu...</td>\n",
       "      <td>[come, master, guidance, say, grasshopper]</td>\n",
       "    </tr>\n",
       "    <tr>\n",
       "      <th>3</th>\n",
       "      <td>Jim</td>\n",
       "      <td>Actually, you called me in here, but yeah.</td>\n",
       "      <td>Actually, you called me in here, but yeah.</td>\n",
       "      <td>[Actually, you, called, me, in, here, but, yea...</td>\n",
       "      <td>[actually, call, yeah]</td>\n",
       "    </tr>\n",
       "    <tr>\n",
       "      <th>4</th>\n",
       "      <td>Michael</td>\n",
       "      <td>All right. Well, let me show you how it's done.</td>\n",
       "      <td>All right. Well, let me show you how it is done.</td>\n",
       "      <td>[All, right, Well, let, me, show, you, how, it...</td>\n",
       "      <td>[right, well, let, show, do]</td>\n",
       "    </tr>\n",
       "  </tbody>\n",
       "</table>\n",
       "</div>"
      ],
      "text/plain": [
       "   speaker                                          line_text  \\\n",
       "0  Michael  All right Jim. Your quarterlies look very good...   \n",
       "1      Jim         Oh, I told you. I couldn't close it. So...   \n",
       "2  Michael  So you've come to the master for guidance? Is ...   \n",
       "3      Jim         Actually, you called me in here, but yeah.   \n",
       "4  Michael    All right. Well, let me show you how it's done.   \n",
       "\n",
       "                                          contracted  \\\n",
       "0  All right Jim. Your quarterlies look very good...   \n",
       "1        Oh, I told you. I could not close it. So...   \n",
       "2  So you have come to the master for guidance? I...   \n",
       "3         Actually, you called me in here, but yeah.   \n",
       "4   All right. Well, let me show you how it is done.   \n",
       "\n",
       "                                              tokens  \\\n",
       "0  [All, right, Jim, Your, quarterlies, look, ver...   \n",
       "1  [Oh, I, told, you, I, could, not, close, it, S...   \n",
       "2  [So, you, have, come, to, the, master, for, gu...   \n",
       "3  [Actually, you, called, me, in, here, but, yea...   \n",
       "4  [All, right, Well, let, me, show, you, how, it...   \n",
       "\n",
       "                                           normalize  \n",
       "0  [right, jim, quarterly, look, good, thing, lib...  \n",
       "1                           [oh, told, could, close]  \n",
       "2         [come, master, guidance, say, grasshopper]  \n",
       "3                             [actually, call, yeah]  \n",
       "4                       [right, well, let, show, do]  "
      ]
     },
     "execution_count": 13,
     "metadata": {},
     "output_type": "execute_result"
    }
   ],
   "source": [
    "df.head()"
   ]
  },
  {
   "cell_type": "code",
   "execution_count": 14,
   "metadata": {},
   "outputs": [],
   "source": [
    "# Stitching together\n",
    "tokens = []\n",
    "for i,d in enumerate(df['normalize']):\n",
    "    tokens.append(' '.join(d))\n",
    "    \n",
    "df['clean_text'] = tokens"
   ]
  },
  {
   "cell_type": "code",
   "execution_count": 15,
   "metadata": {},
   "outputs": [
    {
     "data": {
      "text/html": [
       "<div>\n",
       "<style scoped>\n",
       "    .dataframe tbody tr th:only-of-type {\n",
       "        vertical-align: middle;\n",
       "    }\n",
       "\n",
       "    .dataframe tbody tr th {\n",
       "        vertical-align: top;\n",
       "    }\n",
       "\n",
       "    .dataframe thead th {\n",
       "        text-align: right;\n",
       "    }\n",
       "</style>\n",
       "<table border=\"1\" class=\"dataframe\">\n",
       "  <thead>\n",
       "    <tr style=\"text-align: right;\">\n",
       "      <th></th>\n",
       "      <th>speaker</th>\n",
       "      <th>line_text</th>\n",
       "      <th>contracted</th>\n",
       "      <th>tokens</th>\n",
       "      <th>normalize</th>\n",
       "      <th>clean_text</th>\n",
       "    </tr>\n",
       "  </thead>\n",
       "  <tbody>\n",
       "    <tr>\n",
       "      <th>0</th>\n",
       "      <td>Michael</td>\n",
       "      <td>All right Jim. Your quarterlies look very good...</td>\n",
       "      <td>All right Jim. Your quarterlies look very good...</td>\n",
       "      <td>[All, right, Jim, Your, quarterlies, look, ver...</td>\n",
       "      <td>[right, jim, quarterly, look, good, thing, lib...</td>\n",
       "      <td>right jim quarterly look good thing library</td>\n",
       "    </tr>\n",
       "    <tr>\n",
       "      <th>1</th>\n",
       "      <td>Jim</td>\n",
       "      <td>Oh, I told you. I couldn't close it. So...</td>\n",
       "      <td>Oh, I told you. I could not close it. So...</td>\n",
       "      <td>[Oh, I, told, you, I, could, not, close, it, S...</td>\n",
       "      <td>[oh, told, could, close]</td>\n",
       "      <td>oh told could close</td>\n",
       "    </tr>\n",
       "    <tr>\n",
       "      <th>2</th>\n",
       "      <td>Michael</td>\n",
       "      <td>So you've come to the master for guidance? Is ...</td>\n",
       "      <td>So you have come to the master for guidance? I...</td>\n",
       "      <td>[So, you, have, come, to, the, master, for, gu...</td>\n",
       "      <td>[come, master, guidance, say, grasshopper]</td>\n",
       "      <td>come master guidance say grasshopper</td>\n",
       "    </tr>\n",
       "    <tr>\n",
       "      <th>3</th>\n",
       "      <td>Jim</td>\n",
       "      <td>Actually, you called me in here, but yeah.</td>\n",
       "      <td>Actually, you called me in here, but yeah.</td>\n",
       "      <td>[Actually, you, called, me, in, here, but, yea...</td>\n",
       "      <td>[actually, call, yeah]</td>\n",
       "      <td>actually call yeah</td>\n",
       "    </tr>\n",
       "    <tr>\n",
       "      <th>4</th>\n",
       "      <td>Michael</td>\n",
       "      <td>All right. Well, let me show you how it's done.</td>\n",
       "      <td>All right. Well, let me show you how it is done.</td>\n",
       "      <td>[All, right, Well, let, me, show, you, how, it...</td>\n",
       "      <td>[right, well, let, show, do]</td>\n",
       "      <td>right well let show do</td>\n",
       "    </tr>\n",
       "  </tbody>\n",
       "</table>\n",
       "</div>"
      ],
      "text/plain": [
       "   speaker                                          line_text  \\\n",
       "0  Michael  All right Jim. Your quarterlies look very good...   \n",
       "1      Jim         Oh, I told you. I couldn't close it. So...   \n",
       "2  Michael  So you've come to the master for guidance? Is ...   \n",
       "3      Jim         Actually, you called me in here, but yeah.   \n",
       "4  Michael    All right. Well, let me show you how it's done.   \n",
       "\n",
       "                                          contracted  \\\n",
       "0  All right Jim. Your quarterlies look very good...   \n",
       "1        Oh, I told you. I could not close it. So...   \n",
       "2  So you have come to the master for guidance? I...   \n",
       "3         Actually, you called me in here, but yeah.   \n",
       "4   All right. Well, let me show you how it is done.   \n",
       "\n",
       "                                              tokens  \\\n",
       "0  [All, right, Jim, Your, quarterlies, look, ver...   \n",
       "1  [Oh, I, told, you, I, could, not, close, it, S...   \n",
       "2  [So, you, have, come, to, the, master, for, gu...   \n",
       "3  [Actually, you, called, me, in, here, but, yea...   \n",
       "4  [All, right, Well, let, me, show, you, how, it...   \n",
       "\n",
       "                                           normalize  \\\n",
       "0  [right, jim, quarterly, look, good, thing, lib...   \n",
       "1                           [oh, told, could, close]   \n",
       "2         [come, master, guidance, say, grasshopper]   \n",
       "3                             [actually, call, yeah]   \n",
       "4                       [right, well, let, show, do]   \n",
       "\n",
       "                                    clean_text  \n",
       "0  right jim quarterly look good thing library  \n",
       "1                          oh told could close  \n",
       "2         come master guidance say grasshopper  \n",
       "3                           actually call yeah  \n",
       "4                       right well let show do  "
      ]
     },
     "execution_count": 15,
     "metadata": {},
     "output_type": "execute_result"
    }
   ],
   "source": [
    "df.head()"
   ]
  },
  {
   "cell_type": "code",
   "execution_count": 16,
   "metadata": {},
   "outputs": [
    {
     "data": {
      "text/plain": [
       "(59909, 6)"
      ]
     },
     "execution_count": 16,
     "metadata": {},
     "output_type": "execute_result"
    }
   ],
   "source": [
    "df.shape"
   ]
  },
  {
   "cell_type": "code",
   "execution_count": 17,
   "metadata": {},
   "outputs": [
    {
     "data": {
      "text/plain": [
       "speaker       0\n",
       "line_text     0\n",
       "contracted    0\n",
       "tokens        0\n",
       "normalize     0\n",
       "clean_text    0\n",
       "dtype: int64"
      ]
     },
     "execution_count": 17,
     "metadata": {},
     "output_type": "execute_result"
    }
   ],
   "source": [
    "# null check\n",
    "df.isnull().sum()"
   ]
  },
  {
   "cell_type": "markdown",
   "metadata": {},
   "source": [
    "## Bigrams"
   ]
  },
  {
   "cell_type": "code",
   "execution_count": 18,
   "metadata": {},
   "outputs": [],
   "source": [
    "# Phrases() takes a list of words as input; so passing column 'normalize'\n",
    "sent = [w for w in df['normalize']]"
   ]
  },
  {
   "cell_type": "code",
   "execution_count": 19,
   "metadata": {},
   "outputs": [
    {
     "name": "stderr",
     "output_type": "stream",
     "text": [
      "INFO - 10:26:06: collecting all words and their counts\n",
      "INFO - 10:26:06: PROGRESS: at sentence #0, processed 0 words and 0 word types\n",
      "INFO - 10:26:06: PROGRESS: at sentence #5000, processed 28759 words and 22892 word types\n",
      "INFO - 10:26:06: PROGRESS: at sentence #10000, processed 56658 words and 41058 word types\n",
      "INFO - 10:26:06: PROGRESS: at sentence #15000, processed 83948 words and 57678 word types\n",
      "INFO - 10:26:06: PROGRESS: at sentence #20000, processed 113156 words and 74958 word types\n",
      "INFO - 10:26:06: PROGRESS: at sentence #25000, processed 142341 words and 91066 word types\n",
      "INFO - 10:26:06: PROGRESS: at sentence #30000, processed 169750 words and 105143 word types\n",
      "INFO - 10:26:06: PROGRESS: at sentence #35000, processed 197084 words and 119044 word types\n",
      "INFO - 10:26:06: PROGRESS: at sentence #40000, processed 224977 words and 133115 word types\n",
      "INFO - 10:26:06: PROGRESS: at sentence #45000, processed 253953 words and 147463 word types\n",
      "INFO - 10:26:06: PROGRESS: at sentence #50000, processed 283751 words and 162812 word types\n",
      "INFO - 10:26:07: PROGRESS: at sentence #55000, processed 312300 words and 176900 word types\n",
      "INFO - 10:26:07: collected 191100 word types from a corpus of 341427 words (unigram + bigrams) and 59909 sentences\n",
      "INFO - 10:26:07: using 191100 counts as vocab in Phrases<0 vocab, min_count=10, threshold=10.0, max_vocab_size=40000000>\n"
     ]
    }
   ],
   "source": [
    "# Create relevant phrases from list of sentences\n",
    "phrases = Phrases(sent, min_count=10, progress_per=5000)"
   ]
  },
  {
   "cell_type": "code",
   "execution_count": 26,
   "metadata": {},
   "outputs": [
    {
     "data": {
      "text/plain": [
       "['michael_scott']"
      ]
     },
     "execution_count": 26,
     "metadata": {},
     "output_type": "execute_result"
    }
   ],
   "source": [
    "phrases[['michael', 'scott']]"
   ]
  },
  {
   "cell_type": "code",
   "execution_count": 27,
   "metadata": {},
   "outputs": [
    {
     "name": "stderr",
     "output_type": "stream",
     "text": [
      "INFO - 10:30:50: source_vocab length 191100\n",
      "INFO - 10:30:52: Phraser built with 280 phrasegrams\n"
     ]
    }
   ],
   "source": [
    "bigram = Phraser(phrases)"
   ]
  },
  {
   "cell_type": "code",
   "execution_count": 28,
   "metadata": {},
   "outputs": [],
   "source": [
    "sentences = bigram[sent]"
   ]
  },
  {
   "cell_type": "code",
   "execution_count": 37,
   "metadata": {},
   "outputs": [
    {
     "name": "stdout",
     "output_type": "stream",
     "text": [
      "[['right', 'jim', 'quarterly', 'look', 'good', 'thing', 'library'], ['oh', 'told', 'could', 'close'], ['come', 'master', 'guidance', 'say', 'grasshopper'], ['actually', 'call', 'yeah'], ['right', 'well', 'let', 'show', 'do'], ['phone', 'yes', 'would', 'like', 'speak', 'office', 'manager', 'please', 'yes', 'hello', 'michael_scott', 'regional_manager', 'dunder_mifflin', 'paper', 'product', 'want', 'talk', 'manager', 'manger', 'quick', 'cut', 'scene', 'right', 'do', 'deal', 'thank_much', 'sir', 'gentleman', 'scholar', 'oh', 'sorry', 'ok', 'sorry', 'mistake', 'hang', 'woman', 'talk', 'low', 'voice', 'probably', 'smoker', 'clear_throat', 'way', 'do'], ['uh', 'dunder_mifflin', '12', 'year', 'last', 'four', 'regional_manager', 'want', 'come', 'see', 'entire', 'floor', 'kingdom', 'far', 'eye', 'see', 'receptionist', 'pam', 'pam', 'pam', 'pam', 'pam', 'beesly', 'pam', 'u', 'forever', 'right', 'pam'], ['well', 'know'], ['think', 'cute', 'see', 'couple', 'year_ago', 'growl'], []]\n"
     ]
    }
   ],
   "source": [
    "print([i for i in sentences[:10]])"
   ]
  },
  {
   "cell_type": "markdown",
   "metadata": {},
   "source": [
    "## Most Frequent Words"
   ]
  },
  {
   "cell_type": "code",
   "execution_count": 38,
   "metadata": {},
   "outputs": [
    {
     "data": {
      "text/plain": [
       "16623"
      ]
     },
     "execution_count": 38,
     "metadata": {},
     "output_type": "execute_result"
    }
   ],
   "source": [
    "word_freq = defaultdict(int)\n",
    "for sent in sentences:\n",
    "    for i in sent:\n",
    "        word_freq[i] += 1\n",
    "        \n",
    "len(word_freq)"
   ]
  },
  {
   "cell_type": "code",
   "execution_count": 39,
   "metadata": {},
   "outputs": [
    {
     "data": {
      "text/plain": [
       "['go', 'get', 'know', 'oh', 'yeah', 'like', 'okay', 'well', 'right', 'michael']"
      ]
     },
     "execution_count": 39,
     "metadata": {},
     "output_type": "execute_result"
    }
   ],
   "source": [
    "# most freq\n",
    "sorted(word_freq, key=word_freq.get, reverse=True)[:10]"
   ]
  },
  {
   "cell_type": "code",
   "execution_count": 40,
   "metadata": {},
   "outputs": [
    {
     "data": {
      "text/plain": [
       "['wastepaper',\n",
       " 'spencer',\n",
       " 'whass',\n",
       " 'rodham',\n",
       " 'ringie',\n",
       " 'dingie',\n",
       " 'packman',\n",
       " 'godzillary',\n",
       " 'unnecessarily',\n",
       " 'daniqua']"
      ]
     },
     "execution_count": 40,
     "metadata": {},
     "output_type": "execute_result"
    }
   ],
   "source": [
    "# least freq\n",
    "sorted(word_freq, key=word_freq.get, reverse=False)[:10]"
   ]
  },
  {
   "cell_type": "markdown",
   "metadata": {},
   "source": [
    "## Training Word2Vec"
   ]
  },
  {
   "cell_type": "code",
   "execution_count": 41,
   "metadata": {},
   "outputs": [
    {
     "name": "stdout",
     "output_type": "stream",
     "text": [
      "8\n"
     ]
    }
   ],
   "source": [
    "# cores\n",
    "cores = multiprocessing.cpu_count()\n",
    "print(cores)"
   ]
  },
  {
   "cell_type": "markdown",
   "metadata": {},
   "source": [
    "#### Word2Vec()\n",
    "\n",
    "Set up the parameters.\n",
    "\n",
    "Leaving it uninitialized purposefully by not supplying the parameter *sentences*."
   ]
  },
  {
   "cell_type": "code",
   "execution_count": 42,
   "metadata": {},
   "outputs": [],
   "source": [
    "w2v_model = Word2Vec(min_count=10,\n",
    "                     window=2,\n",
    "                     size=300,\n",
    "                     sample=6e-5,\n",
    "                     alpha=0.03,\n",
    "                     min_alpha=0.0007,\n",
    "                     negative=20,\n",
    "                     workers=cores-1)"
   ]
  },
  {
   "cell_type": "markdown",
   "metadata": {},
   "source": [
    "#### .build_vocab()\n",
    "\n",
    "Builds vocab from sequence of sentences and the model gets initialized."
   ]
  },
  {
   "cell_type": "code",
   "execution_count": 43,
   "metadata": {},
   "outputs": [
    {
     "name": "stderr",
     "output_type": "stream",
     "text": [
      "INFO - 10:38:40: collecting all words and their counts\n",
      "INFO - 10:38:40: PROGRESS: at sentence #0, processed 0 words, keeping 0 word types\n",
      "INFO - 10:38:40: PROGRESS: at sentence #5000, processed 27856 words, keeping 4271 word types\n",
      "INFO - 10:38:40: PROGRESS: at sentence #10000, processed 54818 words, keeping 6278 word types\n",
      "INFO - 10:38:41: PROGRESS: at sentence #15000, processed 81246 words, keeping 7903 word types\n",
      "INFO - 10:38:41: PROGRESS: at sentence #20000, processed 109540 words, keeping 9381 word types\n",
      "INFO - 10:38:41: PROGRESS: at sentence #25000, processed 137801 words, keeping 10632 word types\n",
      "INFO - 10:38:41: PROGRESS: at sentence #30000, processed 164207 words, keeping 11522 word types\n",
      "INFO - 10:38:41: PROGRESS: at sentence #35000, processed 190663 words, keeping 12443 word types\n",
      "INFO - 10:38:41: PROGRESS: at sentence #40000, processed 217738 words, keeping 13331 word types\n",
      "INFO - 10:38:41: PROGRESS: at sentence #45000, processed 245913 words, keeping 14118 word types\n",
      "INFO - 10:38:41: PROGRESS: at sentence #50000, processed 274975 words, keeping 15056 word types\n",
      "INFO - 10:38:41: PROGRESS: at sentence #55000, processed 302782 words, keeping 15863 word types\n",
      "INFO - 10:38:41: collected 16623 word types from a corpus of 331128 raw words and 59909 sentences\n",
      "INFO - 10:38:41: Loading a fresh vocabulary\n",
      "INFO - 10:38:41: effective_min_count=10 retains 3446 unique words (20% of original 16623, drops 13177)\n",
      "INFO - 10:38:41: effective_min_count=10 leaves 300150 word corpus (90% of original 331128, drops 30978)\n",
      "INFO - 10:38:41: deleting the raw counts dictionary of 16623 items\n",
      "INFO - 10:38:41: sample=6e-05 downsamples 1001 most-common words\n",
      "INFO - 10:38:41: downsampling leaves estimated 125106 word corpus (41.7% of prior 300150)\n",
      "INFO - 10:38:41: estimated required memory for 3446 words and 300 dimensions: 9993400 bytes\n",
      "INFO - 10:38:41: resetting layer weights\n"
     ]
    },
    {
     "name": "stdout",
     "output_type": "stream",
     "text": [
      "Time to build vocab: 0.02 mins\n"
     ]
    }
   ],
   "source": [
    "t = time()\n",
    "\n",
    "w2v_model.build_vocab(sentences, progress_per=5000)\n",
    "\n",
    "print('Time to build vocab: {} mins'.format(round((time() - t) / 60, 2)))"
   ]
  },
  {
   "cell_type": "markdown",
   "metadata": {},
   "source": [
    "#### Training model"
   ]
  },
  {
   "cell_type": "code",
   "execution_count": 44,
   "metadata": {},
   "outputs": [
    {
     "name": "stderr",
     "output_type": "stream",
     "text": [
      "INFO - 10:43:30: training model with 7 workers on 3446 vocabulary and 300 features, using sg=0 hs=0 sample=6e-05 negative=20 window=2\n",
      "INFO - 10:43:31: EPOCH 1 - PROGRESS: at 67.34% examples, 79381 words/s, in_qsize 0, out_qsize 0\n",
      "INFO - 10:43:31: worker thread finished; awaiting finish of 6 more threads\n",
      "INFO - 10:43:31: worker thread finished; awaiting finish of 5 more threads\n",
      "INFO - 10:43:31: worker thread finished; awaiting finish of 4 more threads\n",
      "INFO - 10:43:31: worker thread finished; awaiting finish of 3 more threads\n",
      "INFO - 10:43:31: worker thread finished; awaiting finish of 2 more threads\n",
      "INFO - 10:43:31: worker thread finished; awaiting finish of 1 more threads\n",
      "INFO - 10:43:31: worker thread finished; awaiting finish of 0 more threads\n",
      "INFO - 10:43:31: EPOCH - 1 : training on 331128 raw words (124565 effective words) took 1.4s, 89535 effective words/s\n",
      "INFO - 10:43:32: EPOCH 2 - PROGRESS: at 84.83% examples, 102368 words/s, in_qsize 0, out_qsize 0\n",
      "INFO - 10:43:32: worker thread finished; awaiting finish of 6 more threads\n",
      "INFO - 10:43:32: worker thread finished; awaiting finish of 5 more threads\n",
      "INFO - 10:43:32: worker thread finished; awaiting finish of 4 more threads\n",
      "INFO - 10:43:32: worker thread finished; awaiting finish of 3 more threads\n",
      "INFO - 10:43:32: worker thread finished; awaiting finish of 2 more threads\n",
      "INFO - 10:43:32: worker thread finished; awaiting finish of 1 more threads\n",
      "INFO - 10:43:32: worker thread finished; awaiting finish of 0 more threads\n",
      "INFO - 10:43:32: EPOCH - 2 : training on 331128 raw words (124889 effective words) took 1.2s, 103991 effective words/s\n",
      "INFO - 10:43:33: EPOCH 3 - PROGRESS: at 84.83% examples, 103462 words/s, in_qsize 0, out_qsize 0\n",
      "INFO - 10:43:33: worker thread finished; awaiting finish of 6 more threads\n",
      "INFO - 10:43:33: worker thread finished; awaiting finish of 5 more threads\n",
      "INFO - 10:43:33: worker thread finished; awaiting finish of 4 more threads\n",
      "INFO - 10:43:33: worker thread finished; awaiting finish of 3 more threads\n",
      "INFO - 10:43:33: worker thread finished; awaiting finish of 2 more threads\n",
      "INFO - 10:43:33: worker thread finished; awaiting finish of 1 more threads\n",
      "INFO - 10:43:33: worker thread finished; awaiting finish of 0 more threads\n",
      "INFO - 10:43:33: EPOCH - 3 : training on 331128 raw words (125006 effective words) took 1.2s, 105729 effective words/s\n",
      "INFO - 10:43:34: EPOCH 4 - PROGRESS: at 84.83% examples, 103167 words/s, in_qsize 0, out_qsize 0\n",
      "INFO - 10:43:35: worker thread finished; awaiting finish of 6 more threads\n",
      "INFO - 10:43:35: worker thread finished; awaiting finish of 5 more threads\n",
      "INFO - 10:43:35: worker thread finished; awaiting finish of 4 more threads\n",
      "INFO - 10:43:35: worker thread finished; awaiting finish of 3 more threads\n",
      "INFO - 10:43:35: worker thread finished; awaiting finish of 2 more threads\n",
      "INFO - 10:43:35: worker thread finished; awaiting finish of 1 more threads\n",
      "INFO - 10:43:35: worker thread finished; awaiting finish of 0 more threads\n",
      "INFO - 10:43:35: EPOCH - 4 : training on 331128 raw words (125215 effective words) took 1.3s, 92798 effective words/s\n",
      "INFO - 10:43:36: EPOCH 5 - PROGRESS: at 87.81% examples, 106969 words/s, in_qsize 0, out_qsize 0\n",
      "INFO - 10:43:36: worker thread finished; awaiting finish of 6 more threads\n",
      "INFO - 10:43:36: worker thread finished; awaiting finish of 5 more threads\n",
      "INFO - 10:43:36: worker thread finished; awaiting finish of 4 more threads\n",
      "INFO - 10:43:36: worker thread finished; awaiting finish of 3 more threads\n",
      "INFO - 10:43:36: worker thread finished; awaiting finish of 2 more threads\n",
      "INFO - 10:43:36: worker thread finished; awaiting finish of 1 more threads\n",
      "INFO - 10:43:36: worker thread finished; awaiting finish of 0 more threads\n",
      "INFO - 10:43:36: EPOCH - 5 : training on 331128 raw words (125322 effective words) took 1.2s, 107927 effective words/s\n",
      "INFO - 10:43:37: EPOCH 6 - PROGRESS: at 81.87% examples, 100874 words/s, in_qsize 0, out_qsize 0\n",
      "INFO - 10:43:37: worker thread finished; awaiting finish of 6 more threads\n",
      "INFO - 10:43:37: worker thread finished; awaiting finish of 5 more threads\n",
      "INFO - 10:43:37: worker thread finished; awaiting finish of 4 more threads\n",
      "INFO - 10:43:37: worker thread finished; awaiting finish of 3 more threads\n",
      "INFO - 10:43:37: worker thread finished; awaiting finish of 2 more threads\n",
      "INFO - 10:43:37: worker thread finished; awaiting finish of 1 more threads\n",
      "INFO - 10:43:37: worker thread finished; awaiting finish of 0 more threads\n",
      "INFO - 10:43:37: EPOCH - 6 : training on 331128 raw words (125183 effective words) took 1.2s, 103454 effective words/s\n",
      "INFO - 10:43:38: EPOCH 7 - PROGRESS: at 81.87% examples, 99031 words/s, in_qsize 0, out_qsize 0\n",
      "INFO - 10:43:38: worker thread finished; awaiting finish of 6 more threads\n",
      "INFO - 10:43:38: worker thread finished; awaiting finish of 5 more threads\n",
      "INFO - 10:43:38: worker thread finished; awaiting finish of 4 more threads\n",
      "INFO - 10:43:38: worker thread finished; awaiting finish of 3 more threads\n",
      "INFO - 10:43:38: worker thread finished; awaiting finish of 2 more threads\n",
      "INFO - 10:43:38: worker thread finished; awaiting finish of 1 more threads\n",
      "INFO - 10:43:38: worker thread finished; awaiting finish of 0 more threads\n",
      "INFO - 10:43:38: EPOCH - 7 : training on 331128 raw words (124797 effective words) took 1.2s, 102592 effective words/s\n",
      "INFO - 10:43:39: EPOCH 8 - PROGRESS: at 73.66% examples, 86164 words/s, in_qsize 0, out_qsize 0\n",
      "INFO - 10:43:40: worker thread finished; awaiting finish of 6 more threads\n",
      "INFO - 10:43:40: worker thread finished; awaiting finish of 5 more threads\n",
      "INFO - 10:43:40: worker thread finished; awaiting finish of 4 more threads\n",
      "INFO - 10:43:40: worker thread finished; awaiting finish of 3 more threads\n",
      "INFO - 10:43:40: worker thread finished; awaiting finish of 2 more threads\n",
      "INFO - 10:43:40: worker thread finished; awaiting finish of 1 more threads\n",
      "INFO - 10:43:40: worker thread finished; awaiting finish of 0 more threads\n",
      "INFO - 10:43:40: EPOCH - 8 : training on 331128 raw words (125342 effective words) took 1.4s, 90950 effective words/s\n",
      "INFO - 10:43:41: EPOCH 9 - PROGRESS: at 81.87% examples, 100412 words/s, in_qsize 0, out_qsize 0\n",
      "INFO - 10:43:41: worker thread finished; awaiting finish of 6 more threads\n",
      "INFO - 10:43:41: worker thread finished; awaiting finish of 5 more threads\n",
      "INFO - 10:43:41: worker thread finished; awaiting finish of 4 more threads\n",
      "INFO - 10:43:41: worker thread finished; awaiting finish of 3 more threads\n",
      "INFO - 10:43:41: worker thread finished; awaiting finish of 2 more threads\n",
      "INFO - 10:43:41: worker thread finished; awaiting finish of 1 more threads\n",
      "INFO - 10:43:41: worker thread finished; awaiting finish of 0 more threads\n",
      "INFO - 10:43:41: EPOCH - 9 : training on 331128 raw words (125170 effective words) took 1.2s, 101696 effective words/s\n",
      "INFO - 10:43:42: EPOCH 10 - PROGRESS: at 81.87% examples, 100596 words/s, in_qsize 1, out_qsize 0\n",
      "INFO - 10:43:42: worker thread finished; awaiting finish of 6 more threads\n",
      "INFO - 10:43:42: worker thread finished; awaiting finish of 5 more threads\n",
      "INFO - 10:43:42: worker thread finished; awaiting finish of 4 more threads\n",
      "INFO - 10:43:42: worker thread finished; awaiting finish of 3 more threads\n",
      "INFO - 10:43:42: worker thread finished; awaiting finish of 2 more threads\n",
      "INFO - 10:43:42: worker thread finished; awaiting finish of 1 more threads\n",
      "INFO - 10:43:42: worker thread finished; awaiting finish of 0 more threads\n",
      "INFO - 10:43:42: EPOCH - 10 : training on 331128 raw words (125395 effective words) took 1.2s, 101182 effective words/s\n",
      "INFO - 10:43:43: EPOCH 11 - PROGRESS: at 84.83% examples, 102611 words/s, in_qsize 0, out_qsize 0\n",
      "INFO - 10:43:43: worker thread finished; awaiting finish of 6 more threads\n",
      "INFO - 10:43:43: worker thread finished; awaiting finish of 5 more threads\n",
      "INFO - 10:43:43: worker thread finished; awaiting finish of 4 more threads\n",
      "INFO - 10:43:43: worker thread finished; awaiting finish of 3 more threads\n",
      "INFO - 10:43:44: worker thread finished; awaiting finish of 2 more threads\n",
      "INFO - 10:43:44: worker thread finished; awaiting finish of 1 more threads\n",
      "INFO - 10:43:44: worker thread finished; awaiting finish of 0 more threads\n",
      "INFO - 10:43:44: EPOCH - 11 : training on 331128 raw words (125112 effective words) took 1.2s, 104435 effective words/s\n"
     ]
    },
    {
     "name": "stderr",
     "output_type": "stream",
     "text": [
      "INFO - 10:43:45: EPOCH 12 - PROGRESS: at 70.40% examples, 82787 words/s, in_qsize 0, out_qsize 0\n",
      "INFO - 10:43:45: worker thread finished; awaiting finish of 6 more threads\n",
      "INFO - 10:43:45: worker thread finished; awaiting finish of 5 more threads\n",
      "INFO - 10:43:45: worker thread finished; awaiting finish of 4 more threads\n",
      "INFO - 10:43:45: worker thread finished; awaiting finish of 3 more threads\n",
      "INFO - 10:43:45: worker thread finished; awaiting finish of 2 more threads\n",
      "INFO - 10:43:45: worker thread finished; awaiting finish of 1 more threads\n",
      "INFO - 10:43:45: worker thread finished; awaiting finish of 0 more threads\n",
      "INFO - 10:43:45: EPOCH - 12 : training on 331128 raw words (125244 effective words) took 1.4s, 91657 effective words/s\n",
      "INFO - 10:43:46: EPOCH 13 - PROGRESS: at 81.87% examples, 100537 words/s, in_qsize 0, out_qsize 0\n",
      "INFO - 10:43:46: worker thread finished; awaiting finish of 6 more threads\n",
      "INFO - 10:43:46: worker thread finished; awaiting finish of 5 more threads\n",
      "INFO - 10:43:46: worker thread finished; awaiting finish of 4 more threads\n",
      "INFO - 10:43:46: worker thread finished; awaiting finish of 3 more threads\n",
      "INFO - 10:43:46: worker thread finished; awaiting finish of 2 more threads\n",
      "INFO - 10:43:46: worker thread finished; awaiting finish of 1 more threads\n",
      "INFO - 10:43:46: worker thread finished; awaiting finish of 0 more threads\n",
      "INFO - 10:43:46: EPOCH - 13 : training on 331128 raw words (125064 effective words) took 1.2s, 104609 effective words/s\n",
      "INFO - 10:43:47: EPOCH 14 - PROGRESS: at 81.87% examples, 100847 words/s, in_qsize 0, out_qsize 0\n",
      "INFO - 10:43:47: worker thread finished; awaiting finish of 6 more threads\n",
      "INFO - 10:43:47: worker thread finished; awaiting finish of 5 more threads\n",
      "INFO - 10:43:47: worker thread finished; awaiting finish of 4 more threads\n",
      "INFO - 10:43:47: worker thread finished; awaiting finish of 3 more threads\n",
      "INFO - 10:43:47: worker thread finished; awaiting finish of 2 more threads\n",
      "INFO - 10:43:47: worker thread finished; awaiting finish of 1 more threads\n",
      "INFO - 10:43:47: worker thread finished; awaiting finish of 0 more threads\n",
      "INFO - 10:43:47: EPOCH - 14 : training on 331128 raw words (125342 effective words) took 1.2s, 103391 effective words/s\n",
      "INFO - 10:43:48: EPOCH 15 - PROGRESS: at 81.87% examples, 100026 words/s, in_qsize 0, out_qsize 0\n",
      "INFO - 10:43:49: worker thread finished; awaiting finish of 6 more threads\n",
      "INFO - 10:43:49: worker thread finished; awaiting finish of 5 more threads\n",
      "INFO - 10:43:49: worker thread finished; awaiting finish of 4 more threads\n",
      "INFO - 10:43:49: worker thread finished; awaiting finish of 3 more threads\n",
      "INFO - 10:43:49: worker thread finished; awaiting finish of 2 more threads\n",
      "INFO - 10:43:49: worker thread finished; awaiting finish of 1 more threads\n",
      "INFO - 10:43:49: worker thread finished; awaiting finish of 0 more threads\n",
      "INFO - 10:43:49: EPOCH - 15 : training on 331128 raw words (125081 effective words) took 1.4s, 88005 effective words/s\n",
      "INFO - 10:43:50: EPOCH 16 - PROGRESS: at 84.83% examples, 104185 words/s, in_qsize 0, out_qsize 0\n",
      "INFO - 10:43:50: worker thread finished; awaiting finish of 6 more threads\n",
      "INFO - 10:43:50: worker thread finished; awaiting finish of 5 more threads\n",
      "INFO - 10:43:50: worker thread finished; awaiting finish of 4 more threads\n",
      "INFO - 10:43:50: worker thread finished; awaiting finish of 3 more threads\n",
      "INFO - 10:43:50: worker thread finished; awaiting finish of 2 more threads\n",
      "INFO - 10:43:50: worker thread finished; awaiting finish of 1 more threads\n",
      "INFO - 10:43:50: worker thread finished; awaiting finish of 0 more threads\n",
      "INFO - 10:43:50: EPOCH - 16 : training on 331128 raw words (125093 effective words) took 1.2s, 105261 effective words/s\n",
      "INFO - 10:43:51: EPOCH 17 - PROGRESS: at 87.81% examples, 104056 words/s, in_qsize 0, out_qsize 0\n",
      "INFO - 10:43:51: worker thread finished; awaiting finish of 6 more threads\n",
      "INFO - 10:43:51: worker thread finished; awaiting finish of 5 more threads\n",
      "INFO - 10:43:51: worker thread finished; awaiting finish of 4 more threads\n",
      "INFO - 10:43:51: worker thread finished; awaiting finish of 3 more threads\n",
      "INFO - 10:43:51: worker thread finished; awaiting finish of 2 more threads\n",
      "INFO - 10:43:51: worker thread finished; awaiting finish of 1 more threads\n",
      "INFO - 10:43:51: worker thread finished; awaiting finish of 0 more threads\n",
      "INFO - 10:43:51: EPOCH - 17 : training on 331128 raw words (125041 effective words) took 1.2s, 106689 effective words/s\n",
      "INFO - 10:43:52: EPOCH 18 - PROGRESS: at 84.83% examples, 103853 words/s, in_qsize 0, out_qsize 0\n",
      "INFO - 10:43:52: worker thread finished; awaiting finish of 6 more threads\n",
      "INFO - 10:43:52: worker thread finished; awaiting finish of 5 more threads\n",
      "INFO - 10:43:52: worker thread finished; awaiting finish of 4 more threads\n",
      "INFO - 10:43:52: worker thread finished; awaiting finish of 3 more threads\n",
      "INFO - 10:43:52: worker thread finished; awaiting finish of 2 more threads\n",
      "INFO - 10:43:52: worker thread finished; awaiting finish of 1 more threads\n",
      "INFO - 10:43:52: worker thread finished; awaiting finish of 0 more threads\n",
      "INFO - 10:43:52: EPOCH - 18 : training on 331128 raw words (125045 effective words) took 1.2s, 104228 effective words/s\n",
      "INFO - 10:43:53: EPOCH 19 - PROGRESS: at 67.34% examples, 82133 words/s, in_qsize 0, out_qsize 0\n",
      "INFO - 10:43:54: worker thread finished; awaiting finish of 6 more threads\n",
      "INFO - 10:43:54: worker thread finished; awaiting finish of 5 more threads\n",
      "INFO - 10:43:54: worker thread finished; awaiting finish of 4 more threads\n",
      "INFO - 10:43:54: worker thread finished; awaiting finish of 3 more threads\n",
      "INFO - 10:43:54: worker thread finished; awaiting finish of 2 more threads\n",
      "INFO - 10:43:54: worker thread finished; awaiting finish of 1 more threads\n",
      "INFO - 10:43:54: worker thread finished; awaiting finish of 0 more threads\n",
      "INFO - 10:43:54: EPOCH - 19 : training on 331128 raw words (125176 effective words) took 1.4s, 90644 effective words/s\n",
      "INFO - 10:43:55: EPOCH 20 - PROGRESS: at 84.83% examples, 103779 words/s, in_qsize 0, out_qsize 0\n",
      "INFO - 10:43:55: worker thread finished; awaiting finish of 6 more threads\n",
      "INFO - 10:43:55: worker thread finished; awaiting finish of 5 more threads\n",
      "INFO - 10:43:55: worker thread finished; awaiting finish of 4 more threads\n",
      "INFO - 10:43:55: worker thread finished; awaiting finish of 3 more threads\n",
      "INFO - 10:43:55: worker thread finished; awaiting finish of 2 more threads\n",
      "INFO - 10:43:55: worker thread finished; awaiting finish of 1 more threads\n",
      "INFO - 10:43:55: worker thread finished; awaiting finish of 0 more threads\n",
      "INFO - 10:43:55: EPOCH - 20 : training on 331128 raw words (125181 effective words) took 1.2s, 106280 effective words/s\n",
      "INFO - 10:43:56: EPOCH 21 - PROGRESS: at 81.87% examples, 101429 words/s, in_qsize 1, out_qsize 0\n",
      "INFO - 10:43:56: worker thread finished; awaiting finish of 6 more threads\n",
      "INFO - 10:43:56: worker thread finished; awaiting finish of 5 more threads\n",
      "INFO - 10:43:56: worker thread finished; awaiting finish of 4 more threads\n",
      "INFO - 10:43:56: worker thread finished; awaiting finish of 3 more threads\n",
      "INFO - 10:43:56: worker thread finished; awaiting finish of 2 more threads\n",
      "INFO - 10:43:56: worker thread finished; awaiting finish of 1 more threads\n",
      "INFO - 10:43:56: worker thread finished; awaiting finish of 0 more threads\n",
      "INFO - 10:43:56: EPOCH - 21 : training on 331128 raw words (125036 effective words) took 1.2s, 103887 effective words/s\n",
      "INFO - 10:43:57: EPOCH 22 - PROGRESS: at 67.34% examples, 82353 words/s, in_qsize 1, out_qsize 0\n",
      "INFO - 10:43:57: worker thread finished; awaiting finish of 6 more threads\n",
      "INFO - 10:43:57: worker thread finished; awaiting finish of 5 more threads\n",
      "INFO - 10:43:57: worker thread finished; awaiting finish of 4 more threads\n",
      "INFO - 10:43:57: worker thread finished; awaiting finish of 3 more threads\n",
      "INFO - 10:43:57: worker thread finished; awaiting finish of 2 more threads\n",
      "INFO - 10:43:58: worker thread finished; awaiting finish of 1 more threads\n",
      "INFO - 10:43:58: worker thread finished; awaiting finish of 0 more threads\n",
      "INFO - 10:43:58: EPOCH - 22 : training on 331128 raw words (124989 effective words) took 1.4s, 90890 effective words/s\n",
      "INFO - 10:43:59: EPOCH 23 - PROGRESS: at 84.83% examples, 103149 words/s, in_qsize 0, out_qsize 0\n"
     ]
    },
    {
     "name": "stderr",
     "output_type": "stream",
     "text": [
      "INFO - 10:43:59: worker thread finished; awaiting finish of 6 more threads\n",
      "INFO - 10:43:59: worker thread finished; awaiting finish of 5 more threads\n",
      "INFO - 10:43:59: worker thread finished; awaiting finish of 4 more threads\n",
      "INFO - 10:43:59: worker thread finished; awaiting finish of 3 more threads\n",
      "INFO - 10:43:59: worker thread finished; awaiting finish of 2 more threads\n",
      "INFO - 10:43:59: worker thread finished; awaiting finish of 1 more threads\n",
      "INFO - 10:43:59: worker thread finished; awaiting finish of 0 more threads\n",
      "INFO - 10:43:59: EPOCH - 23 : training on 331128 raw words (124922 effective words) took 1.2s, 106310 effective words/s\n",
      "INFO - 10:44:00: EPOCH 24 - PROGRESS: at 84.83% examples, 104863 words/s, in_qsize 0, out_qsize 0\n",
      "INFO - 10:44:00: worker thread finished; awaiting finish of 6 more threads\n",
      "INFO - 10:44:00: worker thread finished; awaiting finish of 5 more threads\n",
      "INFO - 10:44:00: worker thread finished; awaiting finish of 4 more threads\n",
      "INFO - 10:44:00: worker thread finished; awaiting finish of 3 more threads\n",
      "INFO - 10:44:00: worker thread finished; awaiting finish of 2 more threads\n",
      "INFO - 10:44:00: worker thread finished; awaiting finish of 1 more threads\n",
      "INFO - 10:44:00: worker thread finished; awaiting finish of 0 more threads\n",
      "INFO - 10:44:00: EPOCH - 24 : training on 331128 raw words (125451 effective words) took 1.2s, 106024 effective words/s\n",
      "INFO - 10:44:01: EPOCH 25 - PROGRESS: at 84.83% examples, 103153 words/s, in_qsize 0, out_qsize 0\n",
      "INFO - 10:44:01: worker thread finished; awaiting finish of 6 more threads\n",
      "INFO - 10:44:01: worker thread finished; awaiting finish of 5 more threads\n",
      "INFO - 10:44:01: worker thread finished; awaiting finish of 4 more threads\n",
      "INFO - 10:44:01: worker thread finished; awaiting finish of 3 more threads\n",
      "INFO - 10:44:01: worker thread finished; awaiting finish of 2 more threads\n",
      "INFO - 10:44:01: worker thread finished; awaiting finish of 1 more threads\n",
      "INFO - 10:44:01: worker thread finished; awaiting finish of 0 more threads\n",
      "INFO - 10:44:01: EPOCH - 25 : training on 331128 raw words (125248 effective words) took 1.2s, 105964 effective words/s\n",
      "INFO - 10:44:02: EPOCH 26 - PROGRESS: at 70.40% examples, 84253 words/s, in_qsize 0, out_qsize 0\n",
      "INFO - 10:44:02: worker thread finished; awaiting finish of 6 more threads\n",
      "INFO - 10:44:02: worker thread finished; awaiting finish of 5 more threads\n",
      "INFO - 10:44:02: worker thread finished; awaiting finish of 4 more threads\n",
      "INFO - 10:44:02: worker thread finished; awaiting finish of 3 more threads\n",
      "INFO - 10:44:02: worker thread finished; awaiting finish of 2 more threads\n",
      "INFO - 10:44:02: worker thread finished; awaiting finish of 1 more threads\n",
      "INFO - 10:44:02: worker thread finished; awaiting finish of 0 more threads\n",
      "INFO - 10:44:02: EPOCH - 26 : training on 331128 raw words (125310 effective words) took 1.4s, 90561 effective words/s\n",
      "INFO - 10:44:04: EPOCH 27 - PROGRESS: at 78.88% examples, 95355 words/s, in_qsize 0, out_qsize 0\n",
      "INFO - 10:44:04: worker thread finished; awaiting finish of 6 more threads\n",
      "INFO - 10:44:04: worker thread finished; awaiting finish of 5 more threads\n",
      "INFO - 10:44:04: worker thread finished; awaiting finish of 4 more threads\n",
      "INFO - 10:44:04: worker thread finished; awaiting finish of 3 more threads\n",
      "INFO - 10:44:04: worker thread finished; awaiting finish of 2 more threads\n",
      "INFO - 10:44:04: worker thread finished; awaiting finish of 1 more threads\n",
      "INFO - 10:44:04: worker thread finished; awaiting finish of 0 more threads\n",
      "INFO - 10:44:04: EPOCH - 27 : training on 331128 raw words (125336 effective words) took 1.3s, 98878 effective words/s\n",
      "INFO - 10:44:05: EPOCH 28 - PROGRESS: at 78.88% examples, 97672 words/s, in_qsize 0, out_qsize 0\n",
      "INFO - 10:44:05: worker thread finished; awaiting finish of 6 more threads\n",
      "INFO - 10:44:05: worker thread finished; awaiting finish of 5 more threads\n",
      "INFO - 10:44:05: worker thread finished; awaiting finish of 4 more threads\n",
      "INFO - 10:44:05: worker thread finished; awaiting finish of 3 more threads\n",
      "INFO - 10:44:05: worker thread finished; awaiting finish of 2 more threads\n",
      "INFO - 10:44:05: worker thread finished; awaiting finish of 1 more threads\n",
      "INFO - 10:44:05: worker thread finished; awaiting finish of 0 more threads\n",
      "INFO - 10:44:05: EPOCH - 28 : training on 331128 raw words (125056 effective words) took 1.2s, 100060 effective words/s\n",
      "INFO - 10:44:06: EPOCH 29 - PROGRESS: at 70.40% examples, 83616 words/s, in_qsize 0, out_qsize 0\n",
      "INFO - 10:44:06: worker thread finished; awaiting finish of 6 more threads\n",
      "INFO - 10:44:06: worker thread finished; awaiting finish of 5 more threads\n",
      "INFO - 10:44:06: worker thread finished; awaiting finish of 4 more threads\n",
      "INFO - 10:44:06: worker thread finished; awaiting finish of 3 more threads\n",
      "INFO - 10:44:06: worker thread finished; awaiting finish of 2 more threads\n",
      "INFO - 10:44:06: worker thread finished; awaiting finish of 1 more threads\n",
      "INFO - 10:44:06: worker thread finished; awaiting finish of 0 more threads\n",
      "INFO - 10:44:06: EPOCH - 29 : training on 331128 raw words (125095 effective words) took 1.4s, 90555 effective words/s\n",
      "INFO - 10:44:07: EPOCH 30 - PROGRESS: at 81.87% examples, 98708 words/s, in_qsize 0, out_qsize 0\n",
      "INFO - 10:44:08: worker thread finished; awaiting finish of 6 more threads\n",
      "INFO - 10:44:08: worker thread finished; awaiting finish of 5 more threads\n",
      "INFO - 10:44:08: worker thread finished; awaiting finish of 4 more threads\n",
      "INFO - 10:44:08: worker thread finished; awaiting finish of 3 more threads\n",
      "INFO - 10:44:08: worker thread finished; awaiting finish of 2 more threads\n",
      "INFO - 10:44:08: worker thread finished; awaiting finish of 1 more threads\n",
      "INFO - 10:44:08: worker thread finished; awaiting finish of 0 more threads\n",
      "INFO - 10:44:08: EPOCH - 30 : training on 331128 raw words (124858 effective words) took 1.2s, 100754 effective words/s\n",
      "INFO - 10:44:08: training on a 9933840 raw words (3753564 effective words) took 38.0s, 98785 effective words/s\n"
     ]
    },
    {
     "name": "stdout",
     "output_type": "stream",
     "text": [
      "Time to train the model: 0.63 mins\n"
     ]
    }
   ],
   "source": [
    "t = time()\n",
    "\n",
    "w2v_model.train(sentences, total_examples=w2v_model.corpus_count, epochs=30, report_delay=1)\n",
    "\n",
    "print('Time to train the model: {} mins'.format(round((time() - t) / 60, 2)))"
   ]
  },
  {
   "cell_type": "code",
   "execution_count": 45,
   "metadata": {},
   "outputs": [
    {
     "name": "stderr",
     "output_type": "stream",
     "text": [
      "INFO - 10:44:18: precomputing L2-norms of word weight vectors\n"
     ]
    }
   ],
   "source": [
    "# make model memory efficient\n",
    "w2v_model.init_sims(replace=True)"
   ]
  },
  {
   "cell_type": "markdown",
   "metadata": {},
   "source": [
    "## Exploring the model\n",
    "\n",
    "### Most similar"
   ]
  },
  {
   "cell_type": "code",
   "execution_count": 46,
   "metadata": {},
   "outputs": [
    {
     "data": {
      "text/plain": [
       "[('stare', 0.9729537963867188),\n",
       " ('leaf', 0.9687976837158203),\n",
       " ('annex', 0.9599713087081909),\n",
       " ('open_door', 0.9584674835205078),\n",
       " ('quietly', 0.9564653635025024),\n",
       " ('approach', 0.9535989165306091),\n",
       " ('smile', 0.9518152475357056),\n",
       " ('excuse', 0.950378954410553),\n",
       " ('whisper', 0.9498039484024048),\n",
       " ('good_morning', 0.9494023323059082)]"
      ]
     },
     "execution_count": 46,
     "metadata": {},
     "output_type": "execute_result"
    }
   ],
   "source": [
    "w2v_model.wv.most_similar(positive=['michael'])"
   ]
  },
  {
   "cell_type": "code",
   "execution_count": 47,
   "metadata": {},
   "outputs": [
    {
     "data": {
      "text/plain": [
       "[('dunder_mifflin', 0.9662973880767822),\n",
       " ('dwight_schrute', 0.9649559259414673),\n",
       " ('paper_company', 0.9605519771575928),\n",
       " ('regional_manager', 0.94254469871521),\n",
       " ('scranton_branch', 0.906741201877594),\n",
       " ('jim_halpert', 0.892410933971405),\n",
       " ('mr', 0.8759771585464478),\n",
       " ('david_wallace', 0.8752639293670654),\n",
       " ('salesman', 0.8700391054153442),\n",
       " ('introduce', 0.8636146783828735)]"
      ]
     },
     "execution_count": 47,
     "metadata": {},
     "output_type": "execute_result"
    }
   ],
   "source": [
    "w2v_model.wv.most_similar(positive=['michael_scott'])"
   ]
  },
  {
   "cell_type": "code",
   "execution_count": 48,
   "metadata": {},
   "outputs": [
    {
     "data": {
      "text/plain": [
       "[('pam', 0.9749890565872192),\n",
       " ('shake_head', 0.9546641111373901),\n",
       " ('stare', 0.9535520672798157),\n",
       " ('quietly', 0.9495683312416077),\n",
       " ('smile', 0.946858286857605),\n",
       " ('leaf', 0.9450666904449463),\n",
       " ('annex', 0.9435120820999146),\n",
       " ('whisper', 0.9433224201202393),\n",
       " ('michael', 0.9416433572769165),\n",
       " ('nod', 0.9403144121170044)]"
      ]
     },
     "execution_count": 48,
     "metadata": {},
     "output_type": "execute_result"
    }
   ],
   "source": [
    "w2v_model.wv.most_similar(positive=['jim'])"
   ]
  },
  {
   "cell_type": "code",
   "execution_count": 49,
   "metadata": {},
   "outputs": [
    {
     "data": {
      "text/plain": [
       "[('license', 0.9608668088912964),\n",
       " ('friendly', 0.9606679677963257),\n",
       " ('dynamic', 0.9600046277046204),\n",
       " ('athlete', 0.9599429368972778),\n",
       " ('electric_city', 0.9589083194732666),\n",
       " ('assignment', 0.9571537375450134),\n",
       " ('effort', 0.9567835927009583),\n",
       " ('investor', 0.9567010402679443),\n",
       " ('stake', 0.9566989541053772),\n",
       " ('knight', 0.9563060402870178)]"
      ]
     },
     "execution_count": 49,
     "metadata": {},
     "output_type": "execute_result"
    }
   ],
   "source": [
    "w2v_model.wv.most_similar(positive=['warehouse'])"
   ]
  },
  {
   "cell_type": "code",
   "execution_count": 50,
   "metadata": {},
   "outputs": [
    {
     "data": {
      "text/plain": [
       "[('accountant', 0.9578881859779358),\n",
       " ('bernard', 0.9564452171325684),\n",
       " ('former', 0.9488400220870972),\n",
       " ('chief', 0.9441491365432739),\n",
       " ('wise', 0.944046139717102),\n",
       " ('cappella', 0.9436603784561157),\n",
       " ('signature', 0.942876935005188),\n",
       " ('andrew', 0.9413415193557739),\n",
       " ('meredith_palmer', 0.9410542249679565),\n",
       " ('compete', 0.9399938583374023)]"
      ]
     },
     "execution_count": 50,
     "metadata": {},
     "output_type": "execute_result"
    }
   ],
   "source": [
    "w2v_model.wv.most_similar(positive=['andy_bernard'])"
   ]
  },
  {
   "cell_type": "code",
   "execution_count": 51,
   "metadata": {},
   "outputs": [
    {
     "data": {
      "text/plain": [
       "[('stanley', 0.9455965757369995),\n",
       " ('phyllis', 0.937119722366333),\n",
       " ('pat', 0.9367525577545166),\n",
       " ('cheek', 0.9356184005737305),\n",
       " ('quietly', 0.9343083500862122),\n",
       " ('gasp', 0.932079553604126),\n",
       " ('stare', 0.929178774356842),\n",
       " ('shake_head', 0.9289498925209045),\n",
       " ('nod', 0.9276914596557617),\n",
       " ('leaf', 0.9273973107337952)]"
      ]
     },
     "execution_count": 51,
     "metadata": {},
     "output_type": "execute_result"
    }
   ],
   "source": [
    "w2v_model.wv.most_similar(positive=['oscar'])"
   ]
  },
  {
   "cell_type": "markdown",
   "metadata": {},
   "source": [
    "### Similarities"
   ]
  },
  {
   "cell_type": "code",
   "execution_count": 52,
   "metadata": {},
   "outputs": [
    {
     "data": {
      "text/plain": [
       "0.97498906"
      ]
     },
     "execution_count": 52,
     "metadata": {},
     "output_type": "execute_result"
    }
   ],
   "source": [
    "w2v_model.wv.similarity(\"jim\", \"pam\")"
   ]
  },
  {
   "cell_type": "code",
   "execution_count": 53,
   "metadata": {},
   "outputs": [
    {
     "data": {
      "text/plain": [
       "0.77298915"
      ]
     },
     "execution_count": 53,
     "metadata": {},
     "output_type": "execute_result"
    }
   ],
   "source": [
    "w2v_model.wv.similarity(\"michael\", \"conference\")"
   ]
  },
  {
   "cell_type": "code",
   "execution_count": 54,
   "metadata": {},
   "outputs": [
    {
     "data": {
      "text/plain": [
       "0.85950464"
      ]
     },
     "execution_count": 54,
     "metadata": {},
     "output_type": "execute_result"
    }
   ],
   "source": [
    "w2v_model.wv.similarity(\"dwight\", \"angela\")"
   ]
  },
  {
   "cell_type": "code",
   "execution_count": 55,
   "metadata": {},
   "outputs": [
    {
     "data": {
      "text/plain": [
       "0.92599547"
      ]
     },
     "execution_count": 55,
     "metadata": {},
     "output_type": "execute_result"
    }
   ],
   "source": [
    "w2v_model.wv.similarity(\"jim\", \"dwight\")"
   ]
  },
  {
   "cell_type": "code",
   "execution_count": 56,
   "metadata": {},
   "outputs": [
    {
     "data": {
      "text/plain": [
       "0.85918784"
      ]
     },
     "execution_count": 56,
     "metadata": {},
     "output_type": "execute_result"
    }
   ],
   "source": [
    "w2v_model.wv.similarity(\"andy_bernard\", \"cornell\")"
   ]
  },
  {
   "cell_type": "markdown",
   "metadata": {},
   "source": [
    "### Odd-One-Out"
   ]
  },
  {
   "cell_type": "code",
   "execution_count": 57,
   "metadata": {},
   "outputs": [
    {
     "name": "stderr",
     "output_type": "stream",
     "text": [
      "/home/paperspace/anaconda3/envs/my-ml/lib/python3.7/site-packages/gensim/models/keyedvectors.py:877: FutureWarning: arrays to stack must be passed as a \"sequence\" type such as list or tuple. Support for non-sequence iterables such as generators is deprecated as of NumPy 1.16 and will raise an error in the future.\n",
      "  vectors = vstack(self.word_vec(word, use_norm=True) for word in used_words).astype(REAL)\n"
     ]
    },
    {
     "data": {
      "text/plain": [
       "'creed'"
      ]
     },
     "execution_count": 57,
     "metadata": {},
     "output_type": "execute_result"
    }
   ],
   "source": [
    "w2v_model.wv.doesnt_match(['jim', 'dwight', 'creed'])"
   ]
  },
  {
   "cell_type": "code",
   "execution_count": 58,
   "metadata": {},
   "outputs": [
    {
     "data": {
      "text/plain": [
       "'dwight'"
      ]
     },
     "execution_count": 58,
     "metadata": {},
     "output_type": "execute_result"
    }
   ],
   "source": [
    "w2v_model.wv.doesnt_match(['jim', 'dwight', 'pam'])"
   ]
  },
  {
   "cell_type": "code",
   "execution_count": 59,
   "metadata": {},
   "outputs": [
    {
     "data": {
      "text/plain": [
       "'angela'"
      ]
     },
     "execution_count": 59,
     "metadata": {},
     "output_type": "execute_result"
    }
   ],
   "source": [
    "w2v_model.wv.doesnt_match(['michael', 'dwight', 'angela'])"
   ]
  },
  {
   "cell_type": "code",
   "execution_count": 60,
   "metadata": {},
   "outputs": [
    {
     "data": {
      "text/plain": [
       "'cornell'"
      ]
     },
     "execution_count": 60,
     "metadata": {},
     "output_type": "execute_result"
    }
   ],
   "source": [
    "w2v_model.wv.doesnt_match(['andy', 'erin', 'cornell'])"
   ]
  },
  {
   "cell_type": "markdown",
   "metadata": {},
   "source": [
    "## PCA"
   ]
  },
  {
   "cell_type": "code",
   "execution_count": 63,
   "metadata": {},
   "outputs": [
    {
     "name": "stderr",
     "output_type": "stream",
     "text": [
      "/home/paperspace/.local/lib/python3.7/site-packages/ipykernel_launcher.py:2: DeprecationWarning: Call to deprecated `__getitem__` (Method will be removed in 4.0.0, use self.wv.__getitem__() instead).\n",
      "  \n"
     ]
    }
   ],
   "source": [
    "# retrieve all thr vectors from trained model\n",
    "X = w2v_model[w2v_model.wv.vocab]"
   ]
  },
  {
   "cell_type": "code",
   "execution_count": 65,
   "metadata": {},
   "outputs": [
    {
     "data": {
      "text/plain": [
       "(3446, 300)"
      ]
     },
     "execution_count": 65,
     "metadata": {},
     "output_type": "execute_result"
    }
   ],
   "source": [
    "X.shape"
   ]
  },
  {
   "cell_type": "code",
   "execution_count": 66,
   "metadata": {},
   "outputs": [],
   "source": [
    "# fitting PCA\n",
    "pca = PCA(n_components=2)\n",
    "pca_words = pca.fit_transform(X)"
   ]
  },
  {
   "cell_type": "code",
   "execution_count": 67,
   "metadata": {},
   "outputs": [
    {
     "data": {
      "text/plain": [
       "array([0.28385177, 0.2236942 ], dtype=float32)"
      ]
     },
     "execution_count": 67,
     "metadata": {},
     "output_type": "execute_result"
    }
   ],
   "source": [
    "pca.explained_variance_ratio_"
   ]
  },
  {
   "cell_type": "code",
   "execution_count": 70,
   "metadata": {},
   "outputs": [
    {
     "data": {
      "text/plain": [
       "<matplotlib.collections.PathCollection at 0x7f84dc92cfd0>"
      ]
     },
     "execution_count": 70,
     "metadata": {},
     "output_type": "execute_result"
    },
    {
     "data": {
      "image/png": "[encoded data removed]",
      "text/plain": [
       "<Figure size 432x288 with 1 Axes>"
      ]
     },
     "metadata": {
      "needs_background": "light"
     },
     "output_type": "display_data"
    }
   ],
   "source": [
    "pc1 = pca_words[:, 0]\n",
    "pc2 = pca_words[:, 1]\n",
    "\n",
    "plt.scatter(pc1, pc2)"
   ]
  },
  {
   "cell_type": "markdown",
   "metadata": {},
   "source": [
    "## t-SNE"
   ]
  },
  {
   "cell_type": "code",
   "execution_count": 72,
   "metadata": {},
   "outputs": [
    {
     "name": "stdout",
     "output_type": "stream",
     "text": [
      "CPU times: user 26.8 s, sys: 713 ms, total: 27.5 s\n",
      "Wall time: 26.5 s\n"
     ]
    }
   ],
   "source": [
    "%%time\n",
    "pca = PCA(n_components=50, random_state=42)\n",
    "pca_words = pca.fit_transform(X)\n",
    "tsne = TSNE(n_components=2, perplexity=15, random_state=42)\n",
    "tsne_words = tsne.fit_transform(pca_words)"
   ]
  },
  {
   "cell_type": "code",
   "execution_count": 74,
   "metadata": {},
   "outputs": [
    {
     "data": {
      "text/plain": [
       "<matplotlib.collections.PathCollection at 0x7f84dbbbb810>"
      ]
     },
     "execution_count": 74,
     "metadata": {},
     "output_type": "execute_result"
    },
    {
     "data": {
      "image/png": "[encoded data removed]",
      "text/plain": [
       "<Figure size 720x576 with 1 Axes>"
      ]
     },
     "metadata": {
      "needs_background": "light"
     },
     "output_type": "display_data"
    }
   ],
   "source": [
    "plt.figure(figsize=(10, 8))\n",
    "plt.scatter(tsne_words[:, 0], tsne_words[:, 1])"
   ]
  },
  {
   "cell_type": "code",
   "execution_count": 87,
   "metadata": {},
   "outputs": [],
   "source": [
    "def tsnescatterplot(model, word, list_names):\n",
    "    \"\"\" Plot in seaborn the results from the t-SNE dimensionality reduction algorithm of the vectors of a query word,\n",
    "    its list of most similar words, and a list of words.\n",
    "    \"\"\"\n",
    "    arrays = np.empty((0, 300), dtype='f')\n",
    "    word_labels = [word]\n",
    "    color_list  = ['red']\n",
    "\n",
    "    # adds the vector of the query word\n",
    "    arrays = np.append(arrays, model.wv.__getitem__([word]), axis=0)\n",
    "    \n",
    "    # gets list of most similar words\n",
    "    close_words = model.wv.most_similar([word])\n",
    " \n",
    "    # adds the vector for each of the closest words to the array\n",
    "    for wrd_score in close_words:\n",
    "        wrd_vector = model.wv.__getitem__([wrd_score[0]])\n",
    "        word_labels.append(wrd_score[0])\n",
    "        color_list.append('blue')\n",
    "        arrays = np.append(arrays, wrd_vector, axis=0)\n",
    "    \n",
    "    # adds the vector for each of the words from list_names to the array\n",
    "    for wrd in list_names:\n",
    "        wrd_vector = model.wv.__getitem__([wrd])\n",
    "        word_labels.append(wrd)\n",
    "        color_list.append('green')\n",
    "        arrays = np.append(arrays, wrd_vector, axis=0)\n",
    "\n",
    "    # Reduces the dimensionality from 300 to 50 dimensions with PCA\n",
    "    reduc = PCA(n_components=16).fit_transform(arrays)\n",
    "    \n",
    "    # Finds t-SNE coordinates for 2 dimensions\n",
    "    np.set_printoptions(suppress=True)\n",
    "    \n",
    "    Y = TSNE(n_components=2, random_state=0, perplexity=15).fit_transform(reduc)\n",
    "    \n",
    "    # Sets everything up to plot\n",
    "    df = pd.DataFrame({'x': [x for x in Y[:, 0]],\n",
    "                       'y': [y for y in Y[:, 1]],\n",
    "                       'words': word_labels,\n",
    "                       'color': color_list})\n",
    "    \n",
    "    fig, _ = plt.subplots()\n",
    "    fig.set_size_inches(9, 9)\n",
    "    \n",
    "    # Basic plot\n",
    "    p1 = sns.regplot(data=df,\n",
    "                     x=\"x\",\n",
    "                     y=\"y\",\n",
    "                     fit_reg=False,\n",
    "                     marker=\"o\",\n",
    "                     scatter_kws={'s': 40,\n",
    "                                  'facecolors': df['color']\n",
    "                                 }\n",
    "                    )\n",
    "    \n",
    "    # Adds annotations one by one with a loop\n",
    "    for line in range(0, df.shape[0]):\n",
    "         p1.text(df[\"x\"][line],\n",
    "                 df['y'][line],\n",
    "                 '  ' + df[\"words\"][line].title(),\n",
    "                 horizontalalignment='left',\n",
    "                 verticalalignment='bottom', size='medium',\n",
    "                 color=df['color'][line],\n",
    "                 weight='normal'\n",
    "                ).set_size(15)\n",
    "\n",
    "    \n",
    "    plt.xlim(Y[:, 0].min()-50, Y[:, 0].max()+50)\n",
    "    plt.ylim(Y[:, 1].min()-50, Y[:, 1].max()+50)\n",
    "            \n",
    "    plt.title('t-SNE visualization for {}'.format(word.title()))\n",
    "    "
   ]
  },
  {
   "cell_type": "markdown",
   "metadata": {},
   "source": [
    "### 10 most similar vs 7 random words"
   ]
  },
  {
   "cell_type": "code",
   "execution_count": 92,
   "metadata": {},
   "outputs": [
    {
     "data": {
      "image/png": "[encoded data removed]",
      "text/plain": [
       "<Figure size 648x648 with 1 Axes>"
      ]
     },
     "metadata": {
      "needs_background": "light"
     },
     "output_type": "display_data"
    }
   ],
   "source": [
    "tsnescatterplot(w2v_model, 'david_wallace', ['cornell', 'house', 'accountant', 'warehouse',\n",
    "                                             'run', 'scranton', 'kelly'])"
   ]
  },
  {
   "cell_type": "markdown",
   "metadata": {},
   "source": [
    "### 10 most similar vs 10 most dissimilar"
   ]
  },
  {
   "cell_type": "code",
   "execution_count": 97,
   "metadata": {},
   "outputs": [
    {
     "data": {
      "image/png": "[encoded data removed]",
      "text/plain": [
       "<Figure size 648x648 with 1 Axes>"
      ]
     },
     "metadata": {
      "needs_background": "light"
     },
     "output_type": "display_data"
    }
   ],
   "source": [
    "tsnescatterplot(w2v_model, \n",
    "                'dunder_mifflin', \n",
    "                [i[0] for i in w2v_model.wv.most_similar(negative=[\"dunder_mifflin\"])])"
   ]
  },
  {
   "cell_type": "code",
   "execution_count": null,
   "metadata": {},
   "outputs": [],
   "source": []
  },
  {
   "cell_type": "code",
   "execution_count": null,
   "metadata": {},
   "outputs": [],
   "source": []
  },
  {
   "cell_type": "code",
   "execution_count": null,
   "metadata": {},
   "outputs": [],
   "source": []
  },
  {
   "cell_type": "code",
   "execution_count": null,
   "metadata": {},
   "outputs": [],
   "source": []
  },
  {
   "cell_type": "code",
   "execution_count": null,
   "metadata": {},
   "outputs": [],
   "source": []
  },
  {
   "cell_type": "code",
   "execution_count": null,
   "metadata": {},
   "outputs": [],
   "source": []
  },
  {
   "cell_type": "code",
   "execution_count": null,
   "metadata": {},
   "outputs": [],
   "source": []
  }
 ],
 "metadata": {
  "kernelspec": {
   "display_name": "my-ml",
   "language": "python",
   "name": "my-ml"
  },
  "language_info": {
   "codemirror_mode": {
    "name": "ipython",
    "version": 3
   },
   "file_extension": ".py",
   "mimetype": "text/x-python",
   "name": "python",
   "nbconvert_exporter": "python",
   "pygments_lexer": "ipython3",
   "version": "3.7.7"
  }
 },
 "nbformat": 4,
 "nbformat_minor": 2
}
